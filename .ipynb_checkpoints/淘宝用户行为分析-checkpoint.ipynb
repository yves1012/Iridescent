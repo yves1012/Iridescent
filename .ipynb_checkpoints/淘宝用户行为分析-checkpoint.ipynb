{
 "cells": [
  {
   "cell_type": "markdown",
   "metadata": {},
   "source": [
    "## 项目背景"
   ]
  },
  {
   "cell_type": "markdown",
   "metadata": {},
   "source": [
    "以淘宝APP平台用户数据为数据集，通过行业的指标对淘宝用户行为进行分析，从而探索淘宝用户的行为模式，具体指标包括：日PV和日UV分析，付费率分析，复购行为分析，漏斗流失分析和用户价值RFM分析。"
   ]
  },
  {
   "cell_type": "markdown",
   "metadata": {},
   "source": [
    "## 数据来源"
   ]
  },
  {
   "cell_type": "markdown",
   "metadata": {},
   "source": [
    "[阿里云天池](https://tianchi.aliyun.com/dataset/dataDetail?dataId=46&userId=1)"
   ]
  },
  {
   "cell_type": "markdown",
   "metadata": {},
   "source": [
    "## 问题明确"
   ]
  },
  {
   "cell_type": "markdown",
   "metadata": {},
   "source": [
    "* 日PV有多少？\n",
    "* rangeUV有多少？\n",
    "* 付费率情况如何？\n",
    "* 复购率是多少？\n",
    "* 漏斗流失情况怎样？\n",
    "* 用户价值情况？"
   ]
  },
  {
   "cell_type": "markdown",
   "metadata": {},
   "source": [
    "## 数据说明"
   ]
  },
  {
   "cell_type": "markdown",
   "metadata": {},
   "source": [
    "该数据集有淘宝APP于2014年11月18日至2014年12月18日的用户行为数据1200万条，数据已经完成脱敏，共计6个字段，分别是：\n",
    "* user_id：用户身份\n",
    "* item_id：商品ID\n",
    "* behavior_type：用户行为类型（包含点击、收藏、加购物车、支付四种行为，分别用数字1、2、3、4表示）\n",
    "* user_geohash：地理位置（已加密）\n",
    "* item_category：品类ID（商品所属的品类）\n",
    "* time：用户行为发生的时间"
   ]
  },
  {
   "cell_type": "markdown",
   "metadata": {},
   "source": [
    "## 数据清洗"
   ]
  },
  {
   "cell_type": "code",
   "execution_count": 6,
   "metadata": {},
   "outputs": [],
   "source": [
    "import numpy as np\n",
    "import pandas as pd\n",
    "import matplotlib.pyplot as plt\n",
    "import seaborn as sns"
   ]
  },
  {
   "cell_type": "code",
   "execution_count": 7,
   "metadata": {},
   "outputs": [],
   "source": [
    "user_data = pd.read_csv('./tianchi_mobile_recommend_train_user.csv')"
   ]
  },
  {
   "cell_type": "code",
   "execution_count": 3,
   "metadata": {},
   "outputs": [
    {
     "data": {
      "text/html": [
       "<div>\n",
       "<style scoped>\n",
       "    .dataframe tbody tr th:only-of-type {\n",
       "        vertical-align: middle;\n",
       "    }\n",
       "\n",
       "    .dataframe tbody tr th {\n",
       "        vertical-align: top;\n",
       "    }\n",
       "\n",
       "    .dataframe thead th {\n",
       "        text-align: right;\n",
       "    }\n",
       "</style>\n",
       "<table border=\"1\" class=\"dataframe\">\n",
       "  <thead>\n",
       "    <tr style=\"text-align: right;\">\n",
       "      <th></th>\n",
       "      <th>user_id</th>\n",
       "      <th>item_id</th>\n",
       "      <th>behavior_type</th>\n",
       "      <th>user_geohash</th>\n",
       "      <th>item_category</th>\n",
       "      <th>time</th>\n",
       "    </tr>\n",
       "  </thead>\n",
       "  <tbody>\n",
       "    <tr>\n",
       "      <th>0</th>\n",
       "      <td>98047837</td>\n",
       "      <td>232431562</td>\n",
       "      <td>1</td>\n",
       "      <td>NaN</td>\n",
       "      <td>4245</td>\n",
       "      <td>2014-12-06 02</td>\n",
       "    </tr>\n",
       "    <tr>\n",
       "      <th>1</th>\n",
       "      <td>97726136</td>\n",
       "      <td>383583590</td>\n",
       "      <td>1</td>\n",
       "      <td>NaN</td>\n",
       "      <td>5894</td>\n",
       "      <td>2014-12-09 20</td>\n",
       "    </tr>\n",
       "    <tr>\n",
       "      <th>2</th>\n",
       "      <td>98607707</td>\n",
       "      <td>64749712</td>\n",
       "      <td>1</td>\n",
       "      <td>NaN</td>\n",
       "      <td>2883</td>\n",
       "      <td>2014-12-18 11</td>\n",
       "    </tr>\n",
       "    <tr>\n",
       "      <th>3</th>\n",
       "      <td>98662432</td>\n",
       "      <td>320593836</td>\n",
       "      <td>1</td>\n",
       "      <td>96nn52n</td>\n",
       "      <td>6562</td>\n",
       "      <td>2014-12-06 10</td>\n",
       "    </tr>\n",
       "    <tr>\n",
       "      <th>4</th>\n",
       "      <td>98145908</td>\n",
       "      <td>290208520</td>\n",
       "      <td>1</td>\n",
       "      <td>NaN</td>\n",
       "      <td>13926</td>\n",
       "      <td>2014-12-16 21</td>\n",
       "    </tr>\n",
       "  </tbody>\n",
       "</table>\n",
       "</div>"
      ],
      "text/plain": [
       "    user_id    item_id  behavior_type user_geohash  item_category  \\\n",
       "0  98047837  232431562              1          NaN           4245   \n",
       "1  97726136  383583590              1          NaN           5894   \n",
       "2  98607707   64749712              1          NaN           2883   \n",
       "3  98662432  320593836              1      96nn52n           6562   \n",
       "4  98145908  290208520              1          NaN          13926   \n",
       "\n",
       "            time  \n",
       "0  2014-12-06 02  \n",
       "1  2014-12-09 20  \n",
       "2  2014-12-18 11  \n",
       "3  2014-12-06 10  \n",
       "4  2014-12-16 21  "
      ]
     },
     "execution_count": 3,
     "metadata": {},
     "output_type": "execute_result"
    }
   ],
   "source": [
    "user_data.head()"
   ]
  },
  {
   "cell_type": "code",
   "execution_count": 4,
   "metadata": {},
   "outputs": [
    {
     "data": {
      "text/html": [
       "<div>\n",
       "<style scoped>\n",
       "    .dataframe tbody tr th:only-of-type {\n",
       "        vertical-align: middle;\n",
       "    }\n",
       "\n",
       "    .dataframe tbody tr th {\n",
       "        vertical-align: top;\n",
       "    }\n",
       "\n",
       "    .dataframe thead th {\n",
       "        text-align: right;\n",
       "    }\n",
       "</style>\n",
       "<table border=\"1\" class=\"dataframe\">\n",
       "  <thead>\n",
       "    <tr style=\"text-align: right;\">\n",
       "      <th></th>\n",
       "      <th>user_id</th>\n",
       "      <th>item_id</th>\n",
       "      <th>behavior_type</th>\n",
       "      <th>user_geohash</th>\n",
       "      <th>item_category</th>\n",
       "      <th>time</th>\n",
       "    </tr>\n",
       "  </thead>\n",
       "  <tbody>\n",
       "    <tr>\n",
       "      <th>0</th>\n",
       "      <td>98047837</td>\n",
       "      <td>232431562</td>\n",
       "      <td>1</td>\n",
       "      <td>NaN</td>\n",
       "      <td>4245</td>\n",
       "      <td>2014-12-06 02</td>\n",
       "    </tr>\n",
       "    <tr>\n",
       "      <th>1</th>\n",
       "      <td>97726136</td>\n",
       "      <td>383583590</td>\n",
       "      <td>1</td>\n",
       "      <td>NaN</td>\n",
       "      <td>5894</td>\n",
       "      <td>2014-12-09 20</td>\n",
       "    </tr>\n",
       "    <tr>\n",
       "      <th>2</th>\n",
       "      <td>98607707</td>\n",
       "      <td>64749712</td>\n",
       "      <td>1</td>\n",
       "      <td>NaN</td>\n",
       "      <td>2883</td>\n",
       "      <td>2014-12-18 11</td>\n",
       "    </tr>\n",
       "    <tr>\n",
       "      <th>3</th>\n",
       "      <td>98662432</td>\n",
       "      <td>320593836</td>\n",
       "      <td>1</td>\n",
       "      <td>96nn52n</td>\n",
       "      <td>6562</td>\n",
       "      <td>2014-12-06 10</td>\n",
       "    </tr>\n",
       "    <tr>\n",
       "      <th>4</th>\n",
       "      <td>98145908</td>\n",
       "      <td>290208520</td>\n",
       "      <td>1</td>\n",
       "      <td>NaN</td>\n",
       "      <td>13926</td>\n",
       "      <td>2014-12-16 21</td>\n",
       "    </tr>\n",
       "    <tr>\n",
       "      <th>...</th>\n",
       "      <td>...</td>\n",
       "      <td>...</td>\n",
       "      <td>...</td>\n",
       "      <td>...</td>\n",
       "      <td>...</td>\n",
       "      <td>...</td>\n",
       "    </tr>\n",
       "    <tr>\n",
       "      <th>12256901</th>\n",
       "      <td>93812622</td>\n",
       "      <td>378365755</td>\n",
       "      <td>1</td>\n",
       "      <td>95q6d6a</td>\n",
       "      <td>11</td>\n",
       "      <td>2014-12-13 21</td>\n",
       "    </tr>\n",
       "    <tr>\n",
       "      <th>12256902</th>\n",
       "      <td>93812622</td>\n",
       "      <td>177724753</td>\n",
       "      <td>1</td>\n",
       "      <td>NaN</td>\n",
       "      <td>12311</td>\n",
       "      <td>2014-12-14 21</td>\n",
       "    </tr>\n",
       "    <tr>\n",
       "      <th>12256903</th>\n",
       "      <td>93812622</td>\n",
       "      <td>234391443</td>\n",
       "      <td>1</td>\n",
       "      <td>NaN</td>\n",
       "      <td>8765</td>\n",
       "      <td>2014-12-11 16</td>\n",
       "    </tr>\n",
       "    <tr>\n",
       "      <th>12256904</th>\n",
       "      <td>93812622</td>\n",
       "      <td>26452000</td>\n",
       "      <td>1</td>\n",
       "      <td>95q6dqc</td>\n",
       "      <td>7951</td>\n",
       "      <td>2014-12-08 22</td>\n",
       "    </tr>\n",
       "    <tr>\n",
       "      <th>12256905</th>\n",
       "      <td>108404535</td>\n",
       "      <td>362699797</td>\n",
       "      <td>1</td>\n",
       "      <td>NaN</td>\n",
       "      <td>9847</td>\n",
       "      <td>2014-12-03 19</td>\n",
       "    </tr>\n",
       "  </tbody>\n",
       "</table>\n",
       "<p>12256906 rows × 6 columns</p>\n",
       "</div>"
      ],
      "text/plain": [
       "            user_id    item_id  behavior_type user_geohash  item_category  \\\n",
       "0          98047837  232431562              1          NaN           4245   \n",
       "1          97726136  383583590              1          NaN           5894   \n",
       "2          98607707   64749712              1          NaN           2883   \n",
       "3          98662432  320593836              1      96nn52n           6562   \n",
       "4          98145908  290208520              1          NaN          13926   \n",
       "...             ...        ...            ...          ...            ...   \n",
       "12256901   93812622  378365755              1      95q6d6a             11   \n",
       "12256902   93812622  177724753              1          NaN          12311   \n",
       "12256903   93812622  234391443              1          NaN           8765   \n",
       "12256904   93812622   26452000              1      95q6dqc           7951   \n",
       "12256905  108404535  362699797              1          NaN           9847   \n",
       "\n",
       "                   time  \n",
       "0         2014-12-06 02  \n",
       "1         2014-12-09 20  \n",
       "2         2014-12-18 11  \n",
       "3         2014-12-06 10  \n",
       "4         2014-12-16 21  \n",
       "...                 ...  \n",
       "12256901  2014-12-13 21  \n",
       "12256902  2014-12-14 21  \n",
       "12256903  2014-12-11 16  \n",
       "12256904  2014-12-08 22  \n",
       "12256905  2014-12-03 19  \n",
       "\n",
       "[12256906 rows x 6 columns]"
      ]
     },
     "execution_count": 4,
     "metadata": {},
     "output_type": "execute_result"
    }
   ],
   "source": [
    "user_data"
   ]
  },
  {
   "cell_type": "code",
   "execution_count": 5,
   "metadata": {
    "scrolled": false
   },
   "outputs": [
    {
     "data": {
      "text/plain": [
       "user_id                0\n",
       "item_id                0\n",
       "behavior_type          0\n",
       "user_geohash     8334824\n",
       "item_category          0\n",
       "time                   0\n",
       "dtype: int64"
      ]
     },
     "execution_count": 5,
     "metadata": {},
     "output_type": "execute_result"
    }
   ],
   "source": [
    "user_data.isnull().sum()"
   ]
  },
  {
   "cell_type": "markdown",
   "metadata": {},
   "source": [
    "存在缺失值的是User_geohash，有83348245条，不能删除缺失值，因为地理信息在数据集收集过程中做过加密转换，因此对数据集不做处理。"
   ]
  },
  {
   "cell_type": "code",
   "execution_count": 6,
   "metadata": {},
   "outputs": [
    {
     "data": {
      "text/plain": [
       "user_id           int64\n",
       "item_id           int64\n",
       "behavior_type     int64\n",
       "user_geohash     object\n",
       "item_category     int64\n",
       "time             object\n",
       "dtype: object"
      ]
     },
     "execution_count": 6,
     "metadata": {},
     "output_type": "execute_result"
    }
   ],
   "source": [
    "user_data.dtypes"
   ]
  },
  {
   "cell_type": "code",
   "execution_count": 7,
   "metadata": {},
   "outputs": [],
   "source": [
    "user_data['date'] = user_data['time'].apply(lambda x: x.split(' ')[0])  \n",
    "user_data['hour'] = user_data['time'].apply(lambda x: x.split(' ')[1])  "
   ]
  },
  {
   "cell_type": "markdown",
   "metadata": {},
   "source": [
    "### 拆分日期数据"
   ]
  },
  {
   "cell_type": "code",
   "execution_count": 8,
   "metadata": {
    "scrolled": false
   },
   "outputs": [
    {
     "data": {
      "text/html": [
       "<div>\n",
       "<style scoped>\n",
       "    .dataframe tbody tr th:only-of-type {\n",
       "        vertical-align: middle;\n",
       "    }\n",
       "\n",
       "    .dataframe tbody tr th {\n",
       "        vertical-align: top;\n",
       "    }\n",
       "\n",
       "    .dataframe thead th {\n",
       "        text-align: right;\n",
       "    }\n",
       "</style>\n",
       "<table border=\"1\" class=\"dataframe\">\n",
       "  <thead>\n",
       "    <tr style=\"text-align: right;\">\n",
       "      <th></th>\n",
       "      <th>user_id</th>\n",
       "      <th>item_id</th>\n",
       "      <th>behavior_type</th>\n",
       "      <th>user_geohash</th>\n",
       "      <th>item_category</th>\n",
       "      <th>time</th>\n",
       "      <th>date</th>\n",
       "      <th>hour</th>\n",
       "    </tr>\n",
       "  </thead>\n",
       "  <tbody>\n",
       "    <tr>\n",
       "      <th>0</th>\n",
       "      <td>98047837</td>\n",
       "      <td>232431562</td>\n",
       "      <td>1</td>\n",
       "      <td>NaN</td>\n",
       "      <td>4245</td>\n",
       "      <td>2014-12-06 02</td>\n",
       "      <td>2014-12-06</td>\n",
       "      <td>02</td>\n",
       "    </tr>\n",
       "    <tr>\n",
       "      <th>1</th>\n",
       "      <td>97726136</td>\n",
       "      <td>383583590</td>\n",
       "      <td>1</td>\n",
       "      <td>NaN</td>\n",
       "      <td>5894</td>\n",
       "      <td>2014-12-09 20</td>\n",
       "      <td>2014-12-09</td>\n",
       "      <td>20</td>\n",
       "    </tr>\n",
       "    <tr>\n",
       "      <th>2</th>\n",
       "      <td>98607707</td>\n",
       "      <td>64749712</td>\n",
       "      <td>1</td>\n",
       "      <td>NaN</td>\n",
       "      <td>2883</td>\n",
       "      <td>2014-12-18 11</td>\n",
       "      <td>2014-12-18</td>\n",
       "      <td>11</td>\n",
       "    </tr>\n",
       "    <tr>\n",
       "      <th>3</th>\n",
       "      <td>98662432</td>\n",
       "      <td>320593836</td>\n",
       "      <td>1</td>\n",
       "      <td>96nn52n</td>\n",
       "      <td>6562</td>\n",
       "      <td>2014-12-06 10</td>\n",
       "      <td>2014-12-06</td>\n",
       "      <td>10</td>\n",
       "    </tr>\n",
       "    <tr>\n",
       "      <th>4</th>\n",
       "      <td>98145908</td>\n",
       "      <td>290208520</td>\n",
       "      <td>1</td>\n",
       "      <td>NaN</td>\n",
       "      <td>13926</td>\n",
       "      <td>2014-12-16 21</td>\n",
       "      <td>2014-12-16</td>\n",
       "      <td>21</td>\n",
       "    </tr>\n",
       "    <tr>\n",
       "      <th>...</th>\n",
       "      <td>...</td>\n",
       "      <td>...</td>\n",
       "      <td>...</td>\n",
       "      <td>...</td>\n",
       "      <td>...</td>\n",
       "      <td>...</td>\n",
       "      <td>...</td>\n",
       "      <td>...</td>\n",
       "    </tr>\n",
       "    <tr>\n",
       "      <th>12256901</th>\n",
       "      <td>93812622</td>\n",
       "      <td>378365755</td>\n",
       "      <td>1</td>\n",
       "      <td>95q6d6a</td>\n",
       "      <td>11</td>\n",
       "      <td>2014-12-13 21</td>\n",
       "      <td>2014-12-13</td>\n",
       "      <td>21</td>\n",
       "    </tr>\n",
       "    <tr>\n",
       "      <th>12256902</th>\n",
       "      <td>93812622</td>\n",
       "      <td>177724753</td>\n",
       "      <td>1</td>\n",
       "      <td>NaN</td>\n",
       "      <td>12311</td>\n",
       "      <td>2014-12-14 21</td>\n",
       "      <td>2014-12-14</td>\n",
       "      <td>21</td>\n",
       "    </tr>\n",
       "    <tr>\n",
       "      <th>12256903</th>\n",
       "      <td>93812622</td>\n",
       "      <td>234391443</td>\n",
       "      <td>1</td>\n",
       "      <td>NaN</td>\n",
       "      <td>8765</td>\n",
       "      <td>2014-12-11 16</td>\n",
       "      <td>2014-12-11</td>\n",
       "      <td>16</td>\n",
       "    </tr>\n",
       "    <tr>\n",
       "      <th>12256904</th>\n",
       "      <td>93812622</td>\n",
       "      <td>26452000</td>\n",
       "      <td>1</td>\n",
       "      <td>95q6dqc</td>\n",
       "      <td>7951</td>\n",
       "      <td>2014-12-08 22</td>\n",
       "      <td>2014-12-08</td>\n",
       "      <td>22</td>\n",
       "    </tr>\n",
       "    <tr>\n",
       "      <th>12256905</th>\n",
       "      <td>108404535</td>\n",
       "      <td>362699797</td>\n",
       "      <td>1</td>\n",
       "      <td>NaN</td>\n",
       "      <td>9847</td>\n",
       "      <td>2014-12-03 19</td>\n",
       "      <td>2014-12-03</td>\n",
       "      <td>19</td>\n",
       "    </tr>\n",
       "  </tbody>\n",
       "</table>\n",
       "<p>12256906 rows × 8 columns</p>\n",
       "</div>"
      ],
      "text/plain": [
       "            user_id    item_id  behavior_type user_geohash  item_category  \\\n",
       "0          98047837  232431562              1          NaN           4245   \n",
       "1          97726136  383583590              1          NaN           5894   \n",
       "2          98607707   64749712              1          NaN           2883   \n",
       "3          98662432  320593836              1      96nn52n           6562   \n",
       "4          98145908  290208520              1          NaN          13926   \n",
       "...             ...        ...            ...          ...            ...   \n",
       "12256901   93812622  378365755              1      95q6d6a             11   \n",
       "12256902   93812622  177724753              1          NaN          12311   \n",
       "12256903   93812622  234391443              1          NaN           8765   \n",
       "12256904   93812622   26452000              1      95q6dqc           7951   \n",
       "12256905  108404535  362699797              1          NaN           9847   \n",
       "\n",
       "                   time        date hour  \n",
       "0         2014-12-06 02  2014-12-06   02  \n",
       "1         2014-12-09 20  2014-12-09   20  \n",
       "2         2014-12-18 11  2014-12-18   11  \n",
       "3         2014-12-06 10  2014-12-06   10  \n",
       "4         2014-12-16 21  2014-12-16   21  \n",
       "...                 ...         ...  ...  \n",
       "12256901  2014-12-13 21  2014-12-13   21  \n",
       "12256902  2014-12-14 21  2014-12-14   21  \n",
       "12256903  2014-12-11 16  2014-12-11   16  \n",
       "12256904  2014-12-08 22  2014-12-08   22  \n",
       "12256905  2014-12-03 19  2014-12-03   19  \n",
       "\n",
       "[12256906 rows x 8 columns]"
      ]
     },
     "execution_count": 8,
     "metadata": {},
     "output_type": "execute_result"
    }
   ],
   "source": [
    "user_data"
   ]
  },
  {
   "cell_type": "code",
   "execution_count": 9,
   "metadata": {
    "scrolled": true
   },
   "outputs": [
    {
     "data": {
      "text/plain": [
       "user_id           int64\n",
       "item_id           int64\n",
       "behavior_type     int64\n",
       "user_geohash     object\n",
       "item_category     int64\n",
       "time             object\n",
       "date             object\n",
       "hour             object\n",
       "dtype: object"
      ]
     },
     "execution_count": 9,
     "metadata": {},
     "output_type": "execute_result"
    }
   ],
   "source": [
    "user_data.dtypes"
   ]
  },
  {
   "cell_type": "code",
   "execution_count": 10,
   "metadata": {},
   "outputs": [],
   "source": [
    "# 数据类型转化\n",
    "user_data['time'] = pd.to_datetime(user_data['time'])\n",
    "user_data['date'] = pd.to_datetime(user_data['date'])\n",
    "user_data['hour'] = user_data['hour'].astype('int64')"
   ]
  },
  {
   "cell_type": "code",
   "execution_count": 11,
   "metadata": {
    "scrolled": true
   },
   "outputs": [
    {
     "data": {
      "text/plain": [
       "user_id                   int64\n",
       "item_id                   int64\n",
       "behavior_type             int64\n",
       "user_geohash             object\n",
       "item_category             int64\n",
       "time             datetime64[ns]\n",
       "date             datetime64[ns]\n",
       "hour                      int64\n",
       "dtype: object"
      ]
     },
     "execution_count": 11,
     "metadata": {},
     "output_type": "execute_result"
    }
   ],
   "source": [
    "user_data.dtypes"
   ]
  },
  {
   "cell_type": "code",
   "execution_count": 12,
   "metadata": {},
   "outputs": [],
   "source": [
    "user_data = user_data.sort_values(by='time')"
   ]
  },
  {
   "cell_type": "code",
   "execution_count": 14,
   "metadata": {},
   "outputs": [],
   "source": [
    "user_data.reset_index(drop=True, inplace=True)"
   ]
  },
  {
   "cell_type": "code",
   "execution_count": 15,
   "metadata": {
    "scrolled": false
   },
   "outputs": [
    {
     "data": {
      "text/html": [
       "<div>\n",
       "<style scoped>\n",
       "    .dataframe tbody tr th:only-of-type {\n",
       "        vertical-align: middle;\n",
       "    }\n",
       "\n",
       "    .dataframe tbody tr th {\n",
       "        vertical-align: top;\n",
       "    }\n",
       "\n",
       "    .dataframe thead th {\n",
       "        text-align: right;\n",
       "    }\n",
       "</style>\n",
       "<table border=\"1\" class=\"dataframe\">\n",
       "  <thead>\n",
       "    <tr style=\"text-align: right;\">\n",
       "      <th></th>\n",
       "      <th>user_id</th>\n",
       "      <th>item_id</th>\n",
       "      <th>behavior_type</th>\n",
       "      <th>user_geohash</th>\n",
       "      <th>item_category</th>\n",
       "      <th>time</th>\n",
       "      <th>date</th>\n",
       "      <th>hour</th>\n",
       "    </tr>\n",
       "  </thead>\n",
       "  <tbody>\n",
       "    <tr>\n",
       "      <th>0</th>\n",
       "      <td>73462715</td>\n",
       "      <td>378485233</td>\n",
       "      <td>1</td>\n",
       "      <td>NaN</td>\n",
       "      <td>9130</td>\n",
       "      <td>2014-11-18 00:00:00</td>\n",
       "      <td>2014-11-18</td>\n",
       "      <td>0</td>\n",
       "    </tr>\n",
       "    <tr>\n",
       "      <th>1</th>\n",
       "      <td>36090137</td>\n",
       "      <td>236748115</td>\n",
       "      <td>1</td>\n",
       "      <td>NaN</td>\n",
       "      <td>10523</td>\n",
       "      <td>2014-11-18 00:00:00</td>\n",
       "      <td>2014-11-18</td>\n",
       "      <td>0</td>\n",
       "    </tr>\n",
       "    <tr>\n",
       "      <th>2</th>\n",
       "      <td>40459733</td>\n",
       "      <td>155218177</td>\n",
       "      <td>1</td>\n",
       "      <td>NaN</td>\n",
       "      <td>8561</td>\n",
       "      <td>2014-11-18 00:00:00</td>\n",
       "      <td>2014-11-18</td>\n",
       "      <td>0</td>\n",
       "    </tr>\n",
       "    <tr>\n",
       "      <th>3</th>\n",
       "      <td>814199</td>\n",
       "      <td>149808524</td>\n",
       "      <td>1</td>\n",
       "      <td>NaN</td>\n",
       "      <td>9053</td>\n",
       "      <td>2014-11-18 00:00:00</td>\n",
       "      <td>2014-11-18</td>\n",
       "      <td>0</td>\n",
       "    </tr>\n",
       "    <tr>\n",
       "      <th>4</th>\n",
       "      <td>113309982</td>\n",
       "      <td>5730861</td>\n",
       "      <td>1</td>\n",
       "      <td>NaN</td>\n",
       "      <td>3783</td>\n",
       "      <td>2014-11-18 00:00:00</td>\n",
       "      <td>2014-11-18</td>\n",
       "      <td>0</td>\n",
       "    </tr>\n",
       "    <tr>\n",
       "      <th>...</th>\n",
       "      <td>...</td>\n",
       "      <td>...</td>\n",
       "      <td>...</td>\n",
       "      <td>...</td>\n",
       "      <td>...</td>\n",
       "      <td>...</td>\n",
       "      <td>...</td>\n",
       "      <td>...</td>\n",
       "    </tr>\n",
       "    <tr>\n",
       "      <th>12256901</th>\n",
       "      <td>132653097</td>\n",
       "      <td>119946062</td>\n",
       "      <td>2</td>\n",
       "      <td>NaN</td>\n",
       "      <td>6054</td>\n",
       "      <td>2014-12-18 23:00:00</td>\n",
       "      <td>2014-12-18</td>\n",
       "      <td>23</td>\n",
       "    </tr>\n",
       "    <tr>\n",
       "      <th>12256902</th>\n",
       "      <td>130082553</td>\n",
       "      <td>296196819</td>\n",
       "      <td>1</td>\n",
       "      <td>NaN</td>\n",
       "      <td>11532</td>\n",
       "      <td>2014-12-18 23:00:00</td>\n",
       "      <td>2014-12-18</td>\n",
       "      <td>23</td>\n",
       "    </tr>\n",
       "    <tr>\n",
       "      <th>12256903</th>\n",
       "      <td>43592945</td>\n",
       "      <td>350594832</td>\n",
       "      <td>1</td>\n",
       "      <td>9rhhgph</td>\n",
       "      <td>9541</td>\n",
       "      <td>2014-12-18 23:00:00</td>\n",
       "      <td>2014-12-18</td>\n",
       "      <td>23</td>\n",
       "    </tr>\n",
       "    <tr>\n",
       "      <th>12256904</th>\n",
       "      <td>12833799</td>\n",
       "      <td>186993938</td>\n",
       "      <td>1</td>\n",
       "      <td>954g37v</td>\n",
       "      <td>3798</td>\n",
       "      <td>2014-12-18 23:00:00</td>\n",
       "      <td>2014-12-18</td>\n",
       "      <td>23</td>\n",
       "    </tr>\n",
       "    <tr>\n",
       "      <th>12256905</th>\n",
       "      <td>77522552</td>\n",
       "      <td>69292191</td>\n",
       "      <td>1</td>\n",
       "      <td>NaN</td>\n",
       "      <td>889</td>\n",
       "      <td>2014-12-18 23:00:00</td>\n",
       "      <td>2014-12-18</td>\n",
       "      <td>23</td>\n",
       "    </tr>\n",
       "  </tbody>\n",
       "</table>\n",
       "<p>12256906 rows × 8 columns</p>\n",
       "</div>"
      ],
      "text/plain": [
       "            user_id    item_id  behavior_type user_geohash  item_category  \\\n",
       "0          73462715  378485233              1          NaN           9130   \n",
       "1          36090137  236748115              1          NaN          10523   \n",
       "2          40459733  155218177              1          NaN           8561   \n",
       "3            814199  149808524              1          NaN           9053   \n",
       "4         113309982    5730861              1          NaN           3783   \n",
       "...             ...        ...            ...          ...            ...   \n",
       "12256901  132653097  119946062              2          NaN           6054   \n",
       "12256902  130082553  296196819              1          NaN          11532   \n",
       "12256903   43592945  350594832              1      9rhhgph           9541   \n",
       "12256904   12833799  186993938              1      954g37v           3798   \n",
       "12256905   77522552   69292191              1          NaN            889   \n",
       "\n",
       "                        time       date  hour  \n",
       "0        2014-11-18 00:00:00 2014-11-18     0  \n",
       "1        2014-11-18 00:00:00 2014-11-18     0  \n",
       "2        2014-11-18 00:00:00 2014-11-18     0  \n",
       "3        2014-11-18 00:00:00 2014-11-18     0  \n",
       "4        2014-11-18 00:00:00 2014-11-18     0  \n",
       "...                      ...        ...   ...  \n",
       "12256901 2014-12-18 23:00:00 2014-12-18    23  \n",
       "12256902 2014-12-18 23:00:00 2014-12-18    23  \n",
       "12256903 2014-12-18 23:00:00 2014-12-18    23  \n",
       "12256904 2014-12-18 23:00:00 2014-12-18    23  \n",
       "12256905 2014-12-18 23:00:00 2014-12-18    23  \n",
       "\n",
       "[12256906 rows x 8 columns]"
      ]
     },
     "execution_count": 15,
     "metadata": {},
     "output_type": "execute_result"
    }
   ],
   "source": [
    "user_data"
   ]
  },
  {
   "cell_type": "code",
   "execution_count": 16,
   "metadata": {
    "scrolled": false
   },
   "outputs": [
    {
     "data": {
      "text/html": [
       "<div>\n",
       "<style scoped>\n",
       "    .dataframe tbody tr th:only-of-type {\n",
       "        vertical-align: middle;\n",
       "    }\n",
       "\n",
       "    .dataframe tbody tr th {\n",
       "        vertical-align: top;\n",
       "    }\n",
       "\n",
       "    .dataframe thead th {\n",
       "        text-align: right;\n",
       "    }\n",
       "</style>\n",
       "<table border=\"1\" class=\"dataframe\">\n",
       "  <thead>\n",
       "    <tr style=\"text-align: right;\">\n",
       "      <th></th>\n",
       "      <th>user_id</th>\n",
       "      <th>item_id</th>\n",
       "      <th>behavior_type</th>\n",
       "      <th>item_category</th>\n",
       "      <th>hour</th>\n",
       "    </tr>\n",
       "  </thead>\n",
       "  <tbody>\n",
       "    <tr>\n",
       "      <th>count</th>\n",
       "      <td>1.225691e+07</td>\n",
       "      <td>1.225691e+07</td>\n",
       "      <td>1.225691e+07</td>\n",
       "      <td>1.225691e+07</td>\n",
       "      <td>1.225691e+07</td>\n",
       "    </tr>\n",
       "    <tr>\n",
       "      <th>mean</th>\n",
       "      <td>7.170732e+07</td>\n",
       "      <td>2.023084e+08</td>\n",
       "      <td>1.105271e+00</td>\n",
       "      <td>6.846162e+03</td>\n",
       "      <td>1.481799e+01</td>\n",
       "    </tr>\n",
       "    <tr>\n",
       "      <th>std</th>\n",
       "      <td>4.122920e+07</td>\n",
       "      <td>1.167397e+08</td>\n",
       "      <td>4.572662e-01</td>\n",
       "      <td>3.809922e+03</td>\n",
       "      <td>6.474778e+00</td>\n",
       "    </tr>\n",
       "    <tr>\n",
       "      <th>min</th>\n",
       "      <td>4.913000e+03</td>\n",
       "      <td>6.400000e+01</td>\n",
       "      <td>1.000000e+00</td>\n",
       "      <td>2.000000e+00</td>\n",
       "      <td>0.000000e+00</td>\n",
       "    </tr>\n",
       "    <tr>\n",
       "      <th>25%</th>\n",
       "      <td>3.584965e+07</td>\n",
       "      <td>1.014130e+08</td>\n",
       "      <td>1.000000e+00</td>\n",
       "      <td>3.721000e+03</td>\n",
       "      <td>1.000000e+01</td>\n",
       "    </tr>\n",
       "    <tr>\n",
       "      <th>50%</th>\n",
       "      <td>7.292804e+07</td>\n",
       "      <td>2.021359e+08</td>\n",
       "      <td>1.000000e+00</td>\n",
       "      <td>6.209000e+03</td>\n",
       "      <td>1.600000e+01</td>\n",
       "    </tr>\n",
       "    <tr>\n",
       "      <th>75%</th>\n",
       "      <td>1.073774e+08</td>\n",
       "      <td>3.035405e+08</td>\n",
       "      <td>1.000000e+00</td>\n",
       "      <td>1.029000e+04</td>\n",
       "      <td>2.000000e+01</td>\n",
       "    </tr>\n",
       "    <tr>\n",
       "      <th>max</th>\n",
       "      <td>1.424559e+08</td>\n",
       "      <td>4.045625e+08</td>\n",
       "      <td>4.000000e+00</td>\n",
       "      <td>1.408000e+04</td>\n",
       "      <td>2.300000e+01</td>\n",
       "    </tr>\n",
       "  </tbody>\n",
       "</table>\n",
       "</div>"
      ],
      "text/plain": [
       "            user_id       item_id  behavior_type  item_category          hour\n",
       "count  1.225691e+07  1.225691e+07   1.225691e+07   1.225691e+07  1.225691e+07\n",
       "mean   7.170732e+07  2.023084e+08   1.105271e+00   6.846162e+03  1.481799e+01\n",
       "std    4.122920e+07  1.167397e+08   4.572662e-01   3.809922e+03  6.474778e+00\n",
       "min    4.913000e+03  6.400000e+01   1.000000e+00   2.000000e+00  0.000000e+00\n",
       "25%    3.584965e+07  1.014130e+08   1.000000e+00   3.721000e+03  1.000000e+01\n",
       "50%    7.292804e+07  2.021359e+08   1.000000e+00   6.209000e+03  1.600000e+01\n",
       "75%    1.073774e+08  3.035405e+08   1.000000e+00   1.029000e+04  2.000000e+01\n",
       "max    1.424559e+08  4.045625e+08   4.000000e+00   1.408000e+04  2.300000e+01"
      ]
     },
     "execution_count": 16,
     "metadata": {},
     "output_type": "execute_result"
    }
   ],
   "source": [
    "user_data.describe()"
   ]
  },
  {
   "cell_type": "markdown",
   "metadata": {},
   "source": [
    "## 用户行为分析"
   ]
  },
  {
   "cell_type": "markdown",
   "metadata": {},
   "source": [
    "PV(访问量)：即Page View, 具体是指网站的是页面浏览量或者点击量，页面被刷新一次就计算一次。\n",
    "\n",
    "UV(独立访客)：即Unique Visitor,访问您网站的一台电脑客户端为一个访客。"
   ]
  },
  {
   "cell_type": "code",
   "execution_count": null,
   "metadata": {},
   "outputs": [],
   "source": [
    "pv_daily = user_data.groupby('date')['user_id'].count().reset_index().reset_index().reset_index()."
   ]
  },
  {
   "cell_type": "markdown",
   "metadata": {},
   "source": [
    "## 消费行为分析"
   ]
  },
  {
   "cell_type": "markdown",
   "metadata": {},
   "source": [
    "## 复购情况分析"
   ]
  },
  {
   "cell_type": "markdown",
   "metadata": {},
   "source": [
    "## 漏斗流失分析"
   ]
  }
 ],
 "metadata": {
  "kernelspec": {
   "display_name": "Python 3",
   "language": "python",
   "name": "python3"
  },
  "language_info": {
   "codemirror_mode": {
    "name": "ipython",
    "version": 3
   },
   "file_extension": ".py",
   "mimetype": "text/x-python",
   "name": "python",
   "nbconvert_exporter": "python",
   "pygments_lexer": "ipython3",
   "version": "3.7.7"
  },
  "toc": {
   "base_numbering": 1,
   "nav_menu": {},
   "number_sections": true,
   "sideBar": true,
   "skip_h1_title": false,
   "title_cell": "Table of Contents",
   "title_sidebar": "Contents",
   "toc_cell": false,
   "toc_position": {},
   "toc_section_display": true,
   "toc_window_display": false
  },
  "varInspector": {
   "cols": {
    "lenName": 16,
    "lenType": 16,
    "lenVar": 40
   },
   "kernels_config": {
    "python": {
     "delete_cmd_postfix": "",
     "delete_cmd_prefix": "del ",
     "library": "var_list.py",
     "varRefreshCmd": "print(var_dic_list())"
    },
    "r": {
     "delete_cmd_postfix": ") ",
     "delete_cmd_prefix": "rm(",
     "library": "var_list.r",
     "varRefreshCmd": "cat(var_dic_list()) "
    }
   },
   "types_to_exclude": [
    "module",
    "function",
    "builtin_function_or_method",
    "instance",
    "_Feature"
   ],
   "window_display": false
  }
 },
 "nbformat": 4,
 "nbformat_minor": 4
}
