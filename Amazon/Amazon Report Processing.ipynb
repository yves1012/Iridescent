{
 "cells": [
  {
   "cell_type": "markdown",
   "metadata": {},
   "source": [
    "## 导入数据包"
   ]
  },
  {
   "cell_type": "code",
   "execution_count": 1,
   "metadata": {
    "ExecuteTime": {
     "end_time": "2020-12-18T07:47:00.137467Z",
     "start_time": "2020-12-18T07:46:59.897364Z"
    }
   },
   "outputs": [],
   "source": [
    "import pandas as pd\n",
    "import numpy as np\n",
    "import os"
   ]
  },
  {
   "cell_type": "markdown",
   "metadata": {},
   "source": [
    "## 修改主目录"
   ]
  },
  {
   "cell_type": "code",
   "execution_count": 6,
   "metadata": {},
   "outputs": [],
   "source": [
    "os.chdir(r'C:/Users/yves1/Desktop/')"
   ]
  },
  {
   "cell_type": "markdown",
   "metadata": {},
   "source": [
    "## 基础函数方法"
   ]
  },
  {
   "cell_type": "code",
   "execution_count": 7,
   "metadata": {},
   "outputs": [],
   "source": [
    " # 读取SKU配置文件信息\n",
    "def read_sku():\n",
    "    return pd.read_json('../DataSet/sku_data.json')\n",
    "\n",
    "# 获取文件名称\n",
    "def find_file_name(name_start):\n",
    "    for item in os.listdir():\n",
    "        if item.startswith(name_start):\n",
    "            return item\n",
    "\n",
    "# 通过ASIN信息查询SKU信息\n",
    "def parse_sku(ASIN):\n",
    "    sku_data = read_sku()\n",
    "    return pd.Series([sku_data.loc[ASIN.strip(), 'SKU']])"
   ]
  },
  {
   "cell_type": "markdown",
   "metadata": {},
   "source": [
    "## 读取Business Report数据"
   ]
  },
  {
   "cell_type": "code",
   "execution_count": 4,
   "metadata": {},
   "outputs": [],
   "source": [
    "def read_business_report(date_value):\n",
    "    business_data = pd.read_csv(find_file_name('BusinessReport'))\n",
    "    business_data.drop(['Title', 'Session Percentage', 'Page Views Percentage', 'Units Ordered - B2B', 'Unit Session Percentage - B2B', 'Ordered Product Sales - B2B', 'Total Order Items - B2B'], axis=1, inplace=True)\n",
    "    business_data['Date'] = date_value\n",
    "    business_data = business_data.combine_first(business_data['(Child) ASIN'].apply(parse_sku))\n",
    "    business_data.rename(columns={0: 'SKU', '(Parent) ASIN': 'Parent', '(Child) ASIN': 'Child', 'Buy Box Percentage': 'Buy Box', 'Unit Session Percentage': 'CR', 'Ordered Product Sales': 'Sales', 'Total Order Items': 'Order Items'}, inplace=True)\n",
    "    business_data.sort_values(by='SKU', ascending=True, inplace=True)\n",
    "    business_data = business_data[['Date', 'Parent', 'Child', 'SKU', 'Sessions', 'Page Views', 'Order Items', 'Units Ordered', 'Sales', 'CR', 'Buy Box']]\n",
    "    return business_data"
   ]
  },
  {
   "cell_type": "markdown",
   "metadata": {},
   "source": [
    "## 读取Advertisement Report数据"
   ]
  },
  {
   "cell_type": "code",
   "execution_count": 5,
   "metadata": {},
   "outputs": [],
   "source": [
    "def read_sponsored_report(date_value):\n",
    "    sponsored_data = pd.read_excel(find_file_name('Sponsored Products'))\n",
    "    sponsored_data = sponsored_data.query('Date==[\"{}\"]'.format(date_value))\n",
    "    sponsored_data = sponsored_data[['Date', 'Campaign Name', 'Targeting', 'Match Type', 'Customer Search Term', 'Impressions', 'Clicks', 'Cost Per Click (CPC)', 'Spend', '7 Day Total Sales ', 'Click-Thru Rate (CTR)', '7 Day Conversion Rate', 'Total Advertising Cost of Sales (ACoS) ']].sort_values(by=['Date', 'Campaign Name'], ascending=False)\n",
    "    sponsored_data.rename(columns={'Customer Search Term': 'Search Term', 'Cost Per Click (CPC)': 'CPC', '7 Day Total Sales ': 'Sales', 'Click-Thru Rate (CTR)': 'CTR', '7 Day Conversion Rate': 'CR', 'Total Advertising Cost of Sales (ACoS) ': 'ACOS'}, inplace=True)\n",
    "    sponsored_data['ACOS'].fillna(value=0,inplace=True)\n",
    "    return sponsored_data"
   ]
  },
  {
   "cell_type": "markdown",
   "metadata": {},
   "source": [
    "## 数据导出"
   ]
  },
  {
   "cell_type": "code",
   "execution_count": 6,
   "metadata": {},
   "outputs": [],
   "source": [
    "def export_data(date_value):\n",
    "    file_name = 'data_{}.xlsx'.format(date_value.replace('/', ''))\n",
    "    writer = pd.ExcelWriter(file_name)\n",
    "    read_business_report(date_value).to_excel(writer, sheet_name='Business Report', index=False)\n",
    "    read_sponsored_report(date_value).to_excel(writer, sheet_name='Search Term Report', index=False)\n",
    "    writer.save()"
   ]
  },
  {
   "cell_type": "markdown",
   "metadata": {},
   "source": [
    "## 执行操作"
   ]
  },
  {
   "cell_type": "code",
   "execution_count": 10,
   "metadata": {},
   "outputs": [],
   "source": [
    "export_data('2020/12/18')"
   ]
  }
 ],
 "metadata": {
  "kernelspec": {
   "display_name": "Python 3",
   "language": "python",
   "name": "python3"
  },
  "language_info": {
   "codemirror_mode": {
    "name": "ipython",
    "version": 3
   },
   "file_extension": ".py",
   "mimetype": "text/x-python",
   "name": "python",
   "nbconvert_exporter": "python",
   "pygments_lexer": "ipython3",
   "version": "3.7.8"
  },
  "toc": {
   "base_numbering": 1,
   "nav_menu": {},
   "number_sections": true,
   "sideBar": true,
   "skip_h1_title": false,
   "title_cell": "Table of Contents",
   "title_sidebar": "Contents",
   "toc_cell": false,
   "toc_position": {
    "height": "calc(100% - 180px)",
    "left": "10px",
    "top": "150px",
    "width": "310px"
   },
   "toc_section_display": true,
   "toc_window_display": true
  },
  "varInspector": {
   "cols": {
    "lenName": 16,
    "lenType": 16,
    "lenVar": 40
   },
   "kernels_config": {
    "python": {
     "delete_cmd_postfix": "",
     "delete_cmd_prefix": "del ",
     "library": "var_list.py",
     "varRefreshCmd": "print(var_dic_list())"
    },
    "r": {
     "delete_cmd_postfix": ") ",
     "delete_cmd_prefix": "rm(",
     "library": "var_list.r",
     "varRefreshCmd": "cat(var_dic_list()) "
    }
   },
   "position": {
    "height": "144px",
    "left": "1556px",
    "right": "20px",
    "top": "130px",
    "width": "350px"
   },
   "types_to_exclude": [
    "module",
    "function",
    "builtin_function_or_method",
    "instance",
    "_Feature"
   ],
   "window_display": false
  }
 },
 "nbformat": 4,
 "nbformat_minor": 4
}
