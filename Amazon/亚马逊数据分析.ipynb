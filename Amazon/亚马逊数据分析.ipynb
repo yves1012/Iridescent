{
 "cells": [
  {
   "cell_type": "markdown",
   "metadata": {},
   "source": [
    "# 数据归档"
   ]
  },
  {
   "cell_type": "markdown",
   "metadata": {},
   "source": [
    "## 配置信息"
   ]
  },
  {
   "cell_type": "code",
   "execution_count": 138,
   "metadata": {
    "ExecuteTime": {
     "end_time": "2020-12-30T09:22:55.076844Z",
     "start_time": "2020-12-30T09:22:55.064853Z"
    }
   },
   "outputs": [],
   "source": [
    "from sqlalchemy import create_engine\n",
    "import pymysql\n",
    "import pandas as pd\n",
    "import os\n",
    "pymysql.install_as_MySQLdb()\n",
    "\n",
    "# 修改当前主目录\n",
    "os.chdir(r'C:/Users/yves1/Desktop/')\n",
    "\n",
    "# SKU配置信息\n",
    "sku_data = pd.read_json(r'D:\\GitHub\\Jupyter\\DataSet\\sku_data.json')\n",
    "\n",
    "# 数据库配置信息\n",
    "db_engine = str(r'mysql+mysqldb://%s:' + '%s' + '@%s/%s') % (sku_data.loc['USER', 'Data'], sku_data.loc['PWD', 'Data'], sku_data.loc['IP', 'Data'], sku_data.loc['DB', 'Data'])\n",
    "\n",
    "# 表名信息\n",
    "shark_gray_business_us = 'tbl_shark_gray_business_us'\n",
    "shark_gray_ad_us = 'tbl_shark_gray_ad_us'"
   ]
  },
  {
   "cell_type": "markdown",
   "metadata": {},
   "source": [
    "## 业务报表"
   ]
  },
  {
   "cell_type": "code",
   "execution_count": 140,
   "metadata": {
    "ExecuteTime": {
     "end_time": "2020-12-30T09:22:59.503515Z",
     "start_time": "2020-12-30T09:22:59.497513Z"
    }
   },
   "outputs": [],
   "source": [
    "def parse_business_report(date, table_name):\n",
    "    business_report = pd.read_csv(next(value for value in os.listdir() if value.startswith('BusinessReport')))\n",
    "    business_report.drop(['Title', 'Session Percentage', 'Page Views Percentage'], axis=1, inplace=True)\n",
    "    business_report.rename({'(Child) ASIN': 'SKU'}, axis=1, inplace=True)\n",
    "    business_report['SKU'] = business_report['SKU'].apply(lambda x: sku_data.loc[x.strip(), 'Data'])\n",
    "    business_report.insert(loc=0, column='Date', value=pd.to_datetime(date, format='%Y/%m/%d'))\n",
    "    engine = create_engine(db_engine)\n",
    "    try:\n",
    "        business_report.to_sql(table_name, engine, if_exists='append', index=False)\n",
    "    except Exception as e:\n",
    "        print(e)\n",
    "    finally:\n",
    "        engine.dispose()"
   ]
  },
  {
   "cell_type": "markdown",
   "metadata": {},
   "source": [
    "## 广告报表"
   ]
  },
  {
   "cell_type": "code",
   "execution_count": 228,
   "metadata": {
    "ExecuteTime": {
     "end_time": "2020-12-30T11:00:37.393185Z",
     "start_time": "2020-12-30T11:00:37.387186Z"
    }
   },
   "outputs": [],
   "source": [
    "def parse_sponsored_report(date, table_name):\n",
    "    sponsored_report = pd.read_excel(next(value for value in os.listdir() if value.startswith('Sponsored Products')))\n",
    "    sponsored_report = sponsored_report[sponsored_report['Date']==date]\n",
    "    sponsored_report.drop(['Currency', 'Ad Group Name', 'Total Return on Advertising Spend (RoAS)', '7 Day Advertised SKU Units (#)', '7 Day Other SKU Units (#)', '7 Day Advertised SKU Sales ', '7 Day Other SKU Sales '], axis=1, inplace=True)\n",
    "    sponsored_report.rename({'Click-Thru Rate (CTR)': 'CTR', 'Cost Per Click (CPC)': 'CPC', '7 Day Total Sales ': 'Total Sales', 'Total Advertising Cost of Sales (ACoS) ': 'ACoS', '7 Day Total Orders (#)': 'Total Orders', '7 Day Total Units (#)': 'Total Units', '7 Day Conversion Rate': 'CR'}, axis=1, inplace=True)\n",
    "    sponsored_report['ACoS'].fillna(value=0, inplace=True)\n",
    "    sponsored_report[['CTR', 'CPC', 'ACoS', 'CR']] = sponsored_report[['CTR', 'CPC', 'ACoS', 'CR']].apply(lambda x: round(x, 4))\n",
    "    sponsored_report.sort_values(by=['Portfolio name', 'Campaign Name'], inplace=True)\n",
    "    engine = create_engine(db_engine)\n",
    "    try:\n",
    "        sponsored_report.to_sql(table_name, engine, if_exists='append', index=False)\n",
    "    except Exception as e:\n",
    "        print(e)\n",
    "    finally:\n",
    "        engine.dispose()"
   ]
  },
  {
   "cell_type": "code",
   "execution_count": 236,
   "metadata": {
    "ExecuteTime": {
     "end_time": "2020-12-30T11:09:15.852899Z",
     "start_time": "2020-12-30T11:09:15.850897Z"
    },
    "scrolled": true
   },
   "outputs": [],
   "source": [
    "# 解析业务报表数据\n",
    "# parse_business_report('2020/12/27', shark_gray_business_us)\n",
    "\n",
    "# 解析赞助广告数据\n",
    "# parse_sponsored_report('2020/12/29', shark_gray_ad_us)"
   ]
  },
  {
   "cell_type": "markdown",
   "metadata": {},
   "source": [
    "# 数据统计"
   ]
  },
  {
   "cell_type": "code",
   "execution_count": null,
   "metadata": {},
   "outputs": [],
   "source": []
  },
  {
   "cell_type": "markdown",
   "metadata": {},
   "source": [
    "# 数据可视化"
   ]
  },
  {
   "cell_type": "code",
   "execution_count": null,
   "metadata": {},
   "outputs": [],
   "source": []
  },
  {
   "cell_type": "code",
   "execution_count": null,
   "metadata": {},
   "outputs": [],
   "source": []
  }
 ],
 "metadata": {
  "kernelspec": {
   "display_name": "Python 3",
   "language": "python",
   "name": "python3"
  },
  "language_info": {
   "codemirror_mode": {
    "name": "ipython",
    "version": 3
   },
   "file_extension": ".py",
   "mimetype": "text/x-python",
   "name": "python",
   "nbconvert_exporter": "python",
   "pygments_lexer": "ipython3",
   "version": "3.7.8"
  },
  "toc": {
   "base_numbering": 1,
   "nav_menu": {},
   "number_sections": true,
   "sideBar": true,
   "skip_h1_title": false,
   "title_cell": "Table of Contents",
   "title_sidebar": "Contents",
   "toc_cell": false,
   "toc_position": {},
   "toc_section_display": true,
   "toc_window_display": true
  },
  "varInspector": {
   "cols": {
    "lenName": 16,
    "lenType": 16,
    "lenVar": 40
   },
   "kernels_config": {
    "python": {
     "delete_cmd_postfix": "",
     "delete_cmd_prefix": "del ",
     "library": "var_list.py",
     "varRefreshCmd": "print(var_dic_list())"
    },
    "r": {
     "delete_cmd_postfix": ") ",
     "delete_cmd_prefix": "rm(",
     "library": "var_list.r",
     "varRefreshCmd": "cat(var_dic_list()) "
    }
   },
   "types_to_exclude": [
    "module",
    "function",
    "builtin_function_or_method",
    "instance",
    "_Feature"
   ],
   "window_display": false
  }
 },
 "nbformat": 4,
 "nbformat_minor": 4
}
