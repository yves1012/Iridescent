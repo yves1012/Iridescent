{
 "cells": [
  {
   "cell_type": "markdown",
   "metadata": {},
   "source": [
    "# 数据归档"
   ]
  },
  {
   "cell_type": "markdown",
   "metadata": {},
   "source": [
    "## 配置信息"
   ]
  },
  {
   "cell_type": "code",
   "execution_count": 3,
   "metadata": {
    "ExecuteTime": {
     "end_time": "2020-12-30T13:39:31.444569Z",
     "start_time": "2020-12-30T13:39:30.929799Z"
    }
   },
   "outputs": [],
   "source": [
    "from sqlalchemy import create_engine\n",
    "import pymysql\n",
    "import pandas as pd\n",
    "import os\n",
    "pymysql.install_as_MySQLdb()\n",
    "\n",
    "# 修改当前主目录\n",
    "# os.chdir(r'C:/Users/yves1/Desktop/')\n",
    "\n",
    "# SKU配置信息\n",
    "# sku_data = pd.read_json(r'D:\\GitHub\\Jupyter\\DataSet\\sku_data.json')\n",
    "sku_data = pd.read_json(r'/Users/yves/Documents/Github/Jupyter/DataSet/sku_data.json')\n",
    "\n",
    "# 数据库配置信息\n",
    "db_engine = str(r'mysql+mysqldb://%s:' + '%s' + '@%s/%s') % (sku_data.loc['USER', 'Data'], sku_data.loc['PWD', 'Data'], sku_data.loc['IP', 'Data'], sku_data.loc['DB', 'Data'])\n",
    "\n",
    "# 表名信息\n",
    "shark_gray_business_us = 'tbl_shark_gray_business_us'\n",
    "shark_gray_ad_us = 'tbl_shark_gray_ad_us'"
   ]
  },
  {
   "cell_type": "markdown",
   "metadata": {},
   "source": [
    "## 业务报表"
   ]
  },
  {
   "cell_type": "code",
   "execution_count": 4,
   "metadata": {
    "ExecuteTime": {
     "end_time": "2020-12-30T13:39:34.928843Z",
     "start_time": "2020-12-30T13:39:34.919589Z"
    }
   },
   "outputs": [],
   "source": [
    "def parse_business_report(date, table_name):\n",
    "    business_report = pd.read_csv(next(value for value in os.listdir() if value.startswith('BusinessReport')))\n",
    "    business_report.drop(['Title', 'Session Percentage', 'Page Views Percentage'], axis=1, inplace=True)\n",
    "    business_report.rename({'(Child) ASIN': 'SKU'}, axis=1, inplace=True)\n",
    "    business_report['SKU'] = business_report['SKU'].apply(lambda x: sku_data.loc[x.strip(), 'Data'])\n",
    "    business_report.insert(loc=0, column='Date', value=pd.to_datetime(date, format='%Y/%m/%d'))\n",
    "    engine = create_engine(db_engine)\n",
    "    try:\n",
    "        business_report.to_sql(table_name, engine, if_exists='append', index=False)\n",
    "    except Exception as e:\n",
    "        print(e)\n",
    "    finally:\n",
    "        engine.dispose()"
   ]
  },
  {
   "cell_type": "markdown",
   "metadata": {},
   "source": [
    "## 广告报表"
   ]
  },
  {
   "cell_type": "code",
   "execution_count": 5,
   "metadata": {
    "ExecuteTime": {
     "end_time": "2020-12-30T13:39:36.780734Z",
     "start_time": "2020-12-30T13:39:36.770404Z"
    }
   },
   "outputs": [],
   "source": [
    "def parse_sponsored_report(date, table_name):\n",
    "    sponsored_report = pd.read_excel(next(value for value in os.listdir() if value.startswith('Sponsored Products')))\n",
    "    sponsored_report = sponsored_report[sponsored_report['Date']==date]\n",
    "    sponsored_report.drop(['Currency', 'Ad Group Name', 'Total Return on Advertising Spend (RoAS)', '7 Day Advertised SKU Units (#)', '7 Day Other SKU Units (#)', '7 Day Advertised SKU Sales ', '7 Day Other SKU Sales '], axis=1, inplace=True)\n",
    "    sponsored_report.rename({'Click-Thru Rate (CTR)': 'CTR', 'Cost Per Click (CPC)': 'CPC', '7 Day Total Sales ': 'Total Sales', 'Total Advertising Cost of Sales (ACoS) ': 'ACoS', '7 Day Total Orders (#)': 'Total Orders', '7 Day Total Units (#)': 'Total Units', '7 Day Conversion Rate': 'CR'}, axis=1, inplace=True)\n",
    "    sponsored_report['ACoS'].fillna(value=0, inplace=True)\n",
    "    sponsored_report[['CTR', 'CPC', 'ACoS', 'CR']] = sponsored_report[['CTR', 'CPC', 'ACoS', 'CR']].apply(lambda x: round(x, 4))\n",
    "    sponsored_report.sort_values(by=['Portfolio name', 'Campaign Name'], inplace=True)\n",
    "    engine = create_engine(db_engine)\n",
    "    try:\n",
    "        sponsored_report.to_sql(table_name, engine, if_exists='append', index=False)\n",
    "    except Exception as e:\n",
    "        print(e)\n",
    "    finally:\n",
    "        engine.dispose()"
   ]
  },
  {
   "cell_type": "code",
   "execution_count": 236,
   "metadata": {
    "ExecuteTime": {
     "end_time": "2020-12-30T11:09:15.852899Z",
     "start_time": "2020-12-30T11:09:15.850897Z"
    },
    "scrolled": true
   },
   "outputs": [],
   "source": [
    "# 解析业务报表数据\n",
    "# parse_business_report('2020/12/27', shark_gray_business_us)\n",
    "\n",
    "# 解析赞助广告数据\n",
    "# parse_sponsored_report('2020/12/29', shark_gray_ad_us)"
   ]
  },
  {
   "cell_type": "markdown",
   "metadata": {},
   "source": [
    "# 数据统计"
   ]
  },
  {
   "cell_type": "code",
   "execution_count": 97,
   "metadata": {
    "ExecuteTime": {
     "end_time": "2020-12-30T14:52:04.225135Z",
     "start_time": "2020-12-30T14:52:04.219081Z"
    }
   },
   "outputs": [],
   "source": [
    "product_name = {'B08BXTW512': 'Women`s Thongs', 'B08GGBZLXQ': 'Men`s Boxer Briefs', 'B08K8PR7DK': 'women yoga leggings', 'B08M64C67V': 'men sweatshirt', 'B08M5GH26F': 'women vest', 'B08M5WMB78': 'women jacket'}"
   ]
  },
  {
   "cell_type": "code",
   "execution_count": 110,
   "metadata": {
    "ExecuteTime": {
     "end_time": "2020-12-30T15:06:44.372099Z",
     "start_time": "2020-12-30T15:06:42.187467Z"
    }
   },
   "outputs": [],
   "source": [
    "date = '2020-12-1'\n",
    "engine = create_engine(db_engine)\n",
    "\n",
    "business_sql = 'select * from tbl_shark_gray_business_us where Date(Date) = \"{}\"'.format(date)\n",
    "sponsored_sql = 'select * from tbl_shark_gray_ad_us where Date(Date) = \"{}\"'.format(date)\n",
    "\n",
    "business_data = pd.read_sql_query(business_sql, engine)\n",
    "sponsored_data = pd.read_sql_query(sponsored_sql, engine)\n",
    "# 转换数据格式\n",
    "business_data.iloc[:, [5, 8, 9]] = business_data.iloc[:, [5, 8, 9]].apply(lambda x: x.str.replace('%', '')).astype('float')/100\n",
    "business_data.iloc[:, [10, 11]] = business_data.iloc[:, [10, 11]].apply(lambda x: x.str.replace('$', '')).astype('float')\n",
    "\n",
    "business_data.iloc[:, 1] = business_data.iloc[:, 1].apply(lambda x: product_name[x])\n",
    "business_data.rename({'(Parent) ASIN': 'Product'}, axis=1, inplace=True)\n",
    "\n",
    "business_data.drop(['SKU', 'Buy Box Percentage'], axis=1, inplace=True)"
   ]
  },
  {
   "cell_type": "code",
   "execution_count": 116,
   "metadata": {
    "ExecuteTime": {
     "end_time": "2020-12-30T15:12:56.746497Z",
     "start_time": "2020-12-30T15:12:56.728697Z"
    }
   },
   "outputs": [],
   "source": [
    "business_total = business_data.groupby('Product')[['Sessions', 'Page Views', 'Units Ordered', 'Units Ordered - B2B', 'Ordered Product Sales', 'Ordered Product Sales - B2B', 'Total Order Items', 'Total Order Items - B2B']].sum()\n",
    "sponsored_total = sponsored_data.groupby('Portfolio name')[['Clicks', 'Spend', 'Total Sales']].sum()\n"
   ]
  },
  {
   "cell_type": "code",
   "execution_count": 118,
   "metadata": {
    "ExecuteTime": {
     "end_time": "2020-12-30T15:13:05.650495Z",
     "start_time": "2020-12-30T15:13:05.633363Z"
    }
   },
   "outputs": [
    {
     "data": {
      "text/html": [
       "<div>\n",
       "<style scoped>\n",
       "    .dataframe tbody tr th:only-of-type {\n",
       "        vertical-align: middle;\n",
       "    }\n",
       "\n",
       "    .dataframe tbody tr th {\n",
       "        vertical-align: top;\n",
       "    }\n",
       "\n",
       "    .dataframe thead th {\n",
       "        text-align: right;\n",
       "    }\n",
       "</style>\n",
       "<table border=\"1\" class=\"dataframe\">\n",
       "  <thead>\n",
       "    <tr style=\"text-align: right;\">\n",
       "      <th></th>\n",
       "      <th>Clicks</th>\n",
       "      <th>Spend</th>\n",
       "      <th>Total Sales</th>\n",
       "    </tr>\n",
       "    <tr>\n",
       "      <th>Portfolio name</th>\n",
       "      <th></th>\n",
       "      <th></th>\n",
       "      <th></th>\n",
       "    </tr>\n",
       "  </thead>\n",
       "  <tbody>\n",
       "    <tr>\n",
       "      <th>Men`s Boxer Briefs</th>\n",
       "      <td>9</td>\n",
       "      <td>10.16</td>\n",
       "      <td>15.99</td>\n",
       "    </tr>\n",
       "    <tr>\n",
       "      <th>Women`s Thongs</th>\n",
       "      <td>7</td>\n",
       "      <td>6.39</td>\n",
       "      <td>15.99</td>\n",
       "    </tr>\n",
       "  </tbody>\n",
       "</table>\n",
       "</div>"
      ],
      "text/plain": [
       "                    Clicks  Spend  Total Sales\n",
       "Portfolio name                                \n",
       "Men`s Boxer Briefs       9  10.16        15.99\n",
       "Women`s Thongs           7   6.39        15.99"
      ]
     },
     "execution_count": 118,
     "metadata": {},
     "output_type": "execute_result"
    }
   ],
   "source": [
    "sponsored_total"
   ]
  },
  {
   "cell_type": "code",
   "execution_count": 119,
   "metadata": {
    "ExecuteTime": {
     "end_time": "2020-12-30T15:13:13.309932Z",
     "start_time": "2020-12-30T15:13:13.292784Z"
    }
   },
   "outputs": [
    {
     "data": {
      "text/html": [
       "<div>\n",
       "<style scoped>\n",
       "    .dataframe tbody tr th:only-of-type {\n",
       "        vertical-align: middle;\n",
       "    }\n",
       "\n",
       "    .dataframe tbody tr th {\n",
       "        vertical-align: top;\n",
       "    }\n",
       "\n",
       "    .dataframe thead th {\n",
       "        text-align: right;\n",
       "    }\n",
       "</style>\n",
       "<table border=\"1\" class=\"dataframe\">\n",
       "  <thead>\n",
       "    <tr style=\"text-align: right;\">\n",
       "      <th></th>\n",
       "      <th>Sessions</th>\n",
       "      <th>Page Views</th>\n",
       "      <th>Units Ordered</th>\n",
       "      <th>Units Ordered - B2B</th>\n",
       "      <th>Ordered Product Sales</th>\n",
       "      <th>Ordered Product Sales - B2B</th>\n",
       "      <th>Total Order Items</th>\n",
       "      <th>Total Order Items - B2B</th>\n",
       "    </tr>\n",
       "    <tr>\n",
       "      <th>Product</th>\n",
       "      <th></th>\n",
       "      <th></th>\n",
       "      <th></th>\n",
       "      <th></th>\n",
       "      <th></th>\n",
       "      <th></th>\n",
       "      <th></th>\n",
       "      <th></th>\n",
       "    </tr>\n",
       "  </thead>\n",
       "  <tbody>\n",
       "    <tr>\n",
       "      <th>Men`s Boxer Briefs</th>\n",
       "      <td>21</td>\n",
       "      <td>26</td>\n",
       "      <td>2</td>\n",
       "      <td>0</td>\n",
       "      <td>34.72</td>\n",
       "      <td>0.0</td>\n",
       "      <td>2</td>\n",
       "      <td>0</td>\n",
       "    </tr>\n",
       "    <tr>\n",
       "      <th>Women`s Thongs</th>\n",
       "      <td>2</td>\n",
       "      <td>2</td>\n",
       "      <td>1</td>\n",
       "      <td>0</td>\n",
       "      <td>17.07</td>\n",
       "      <td>0.0</td>\n",
       "      <td>1</td>\n",
       "      <td>0</td>\n",
       "    </tr>\n",
       "  </tbody>\n",
       "</table>\n",
       "</div>"
      ],
      "text/plain": [
       "                    Sessions  Page Views  Units Ordered  Units Ordered - B2B  \\\n",
       "Product                                                                        \n",
       "Men`s Boxer Briefs        21          26              2                    0   \n",
       "Women`s Thongs             2           2              1                    0   \n",
       "\n",
       "                    Ordered Product Sales  Ordered Product Sales - B2B  \\\n",
       "Product                                                                  \n",
       "Men`s Boxer Briefs                  34.72                          0.0   \n",
       "Women`s Thongs                      17.07                          0.0   \n",
       "\n",
       "                    Total Order Items  Total Order Items - B2B  \n",
       "Product                                                         \n",
       "Men`s Boxer Briefs                  2                        0  \n",
       "Women`s Thongs                      1                        0  "
      ]
     },
     "execution_count": 119,
     "metadata": {},
     "output_type": "execute_result"
    }
   ],
   "source": [
    "business_total"
   ]
  },
  {
   "cell_type": "code",
   "execution_count": 131,
   "metadata": {
    "ExecuteTime": {
     "end_time": "2020-12-30T15:19:52.275473Z",
     "start_time": "2020-12-30T15:19:52.267719Z"
    },
    "scrolled": true
   },
   "outputs": [],
   "source": [
    "total = pd.concat([business_total, sponsored_total], axis = 1, keys=['business_total', 'sponsored_total'])"
   ]
  },
  {
   "cell_type": "code",
   "execution_count": 123,
   "metadata": {
    "ExecuteTime": {
     "end_time": "2020-12-30T15:16:25.562728Z",
     "start_time": "2020-12-30T15:16:25.552799Z"
    }
   },
   "outputs": [
    {
     "data": {
      "text/plain": [
       "MultiIndex([( 'business_total',                    'Sessions'),\n",
       "            ( 'business_total',                  'Page Views'),\n",
       "            ( 'business_total',               'Units Ordered'),\n",
       "            ( 'business_total',         'Units Ordered - B2B'),\n",
       "            ( 'business_total',       'Ordered Product Sales'),\n",
       "            ( 'business_total', 'Ordered Product Sales - B2B'),\n",
       "            ( 'business_total',           'Total Order Items'),\n",
       "            ( 'business_total',     'Total Order Items - B2B'),\n",
       "            ('sponsored_total',                      'Clicks'),\n",
       "            ('sponsored_total',                       'Spend'),\n",
       "            ('sponsored_total',                 'Total Sales')],\n",
       "           )"
      ]
     },
     "execution_count": 123,
     "metadata": {},
     "output_type": "execute_result"
    }
   ],
   "source": [
    "total.columns"
   ]
  },
  {
   "cell_type": "code",
   "execution_count": 129,
   "metadata": {
    "ExecuteTime": {
     "end_time": "2020-12-30T15:18:19.079220Z",
     "start_time": "2020-12-30T15:18:19.069540Z"
    }
   },
   "outputs": [
    {
     "data": {
      "text/plain": [
       "pandas.core.frame.DataFrame"
      ]
     },
     "execution_count": 129,
     "metadata": {},
     "output_type": "execute_result"
    }
   ],
   "source": [
    "type(total)"
   ]
  },
  {
   "cell_type": "code",
   "execution_count": null,
   "metadata": {},
   "outputs": [],
   "source": [
    "https://blog.csdn.net/flyfoxs/article/details/81346885"
   ]
  },
  {
   "cell_type": "code",
   "execution_count": null,
   "metadata": {},
   "outputs": [],
   "source": []
  },
  {
   "cell_type": "code",
   "execution_count": null,
   "metadata": {},
   "outputs": [],
   "source": []
  },
  {
   "cell_type": "code",
   "execution_count": null,
   "metadata": {},
   "outputs": [],
   "source": []
  },
  {
   "cell_type": "code",
   "execution_count": null,
   "metadata": {},
   "outputs": [],
   "source": []
  },
  {
   "cell_type": "code",
   "execution_count": null,
   "metadata": {},
   "outputs": [],
   "source": []
  },
  {
   "cell_type": "code",
   "execution_count": null,
   "metadata": {},
   "outputs": [],
   "source": []
  },
  {
   "cell_type": "code",
   "execution_count": null,
   "metadata": {},
   "outputs": [],
   "source": []
  },
  {
   "cell_type": "code",
   "execution_count": null,
   "metadata": {},
   "outputs": [],
   "source": []
  },
  {
   "cell_type": "markdown",
   "metadata": {},
   "source": [
    "# 数据可视化"
   ]
  },
  {
   "cell_type": "code",
   "execution_count": null,
   "metadata": {},
   "outputs": [],
   "source": [
    "sql = 'select * from tbl_shark_gray_business_us where Date(Date) between \"{}\" and \"{}\"'.format(start_date, end_date)"
   ]
  },
  {
   "cell_type": "code",
   "execution_count": null,
   "metadata": {},
   "outputs": [],
   "source": []
  }
 ],
 "metadata": {
  "kernelspec": {
   "display_name": "Python 3",
   "language": "python",
   "name": "python3"
  },
  "language_info": {
   "codemirror_mode": {
    "name": "ipython",
    "version": 3
   },
   "file_extension": ".py",
   "mimetype": "text/x-python",
   "name": "python",
   "nbconvert_exporter": "python",
   "pygments_lexer": "ipython3",
   "version": "3.7.7"
  },
  "toc": {
   "base_numbering": 1,
   "nav_menu": {},
   "number_sections": true,
   "sideBar": true,
   "skip_h1_title": false,
   "title_cell": "Table of Contents",
   "title_sidebar": "Contents",
   "toc_cell": false,
   "toc_position": {
    "height": "calc(100% - 180px)",
    "left": "10px",
    "top": "150px",
    "width": "187px"
   },
   "toc_section_display": true,
   "toc_window_display": true
  },
  "varInspector": {
   "cols": {
    "lenName": 16,
    "lenType": 16,
    "lenVar": 40
   },
   "kernels_config": {
    "python": {
     "delete_cmd_postfix": "",
     "delete_cmd_prefix": "del ",
     "library": "var_list.py",
     "varRefreshCmd": "print(var_dic_list())"
    },
    "r": {
     "delete_cmd_postfix": ") ",
     "delete_cmd_prefix": "rm(",
     "library": "var_list.r",
     "varRefreshCmd": "cat(var_dic_list()) "
    }
   },
   "types_to_exclude": [
    "module",
    "function",
    "builtin_function_or_method",
    "instance",
    "_Feature"
   ],
   "window_display": false
  }
 },
 "nbformat": 4,
 "nbformat_minor": 4
}
