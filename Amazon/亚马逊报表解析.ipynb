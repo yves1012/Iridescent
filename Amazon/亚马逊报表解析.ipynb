{
 "cells": [
  {
   "cell_type": "markdown",
   "metadata": {},
   "source": [
    "## 导入数据包"
   ]
  },
  {
   "cell_type": "code",
   "execution_count": 1,
   "metadata": {
    "ExecuteTime": {
     "end_time": "2020-12-24T08:59:33.827695Z",
     "start_time": "2020-12-24T08:59:32.881961Z"
    }
   },
   "outputs": [],
   "source": [
    "import pandas as pd\n",
    "import numpy as np\n",
    "import os"
   ]
  },
  {
   "cell_type": "markdown",
   "metadata": {},
   "source": [
    "## 修改主目录"
   ]
  },
  {
   "cell_type": "code",
   "execution_count": 2,
   "metadata": {
    "ExecuteTime": {
     "end_time": "2020-12-24T08:59:33.832707Z",
     "start_time": "2020-12-24T08:59:33.828697Z"
    }
   },
   "outputs": [],
   "source": [
    "os.chdir(r'C:/Users/yves1/Desktop/')"
   ]
  },
  {
   "cell_type": "markdown",
   "metadata": {},
   "source": [
    "## 基础函数方法"
   ]
  },
  {
   "cell_type": "code",
   "execution_count": 3,
   "metadata": {
    "ExecuteTime": {
     "end_time": "2020-12-24T08:59:33.840702Z",
     "start_time": "2020-12-24T08:59:33.836698Z"
    }
   },
   "outputs": [],
   "source": [
    " # 读取SKU配置文件信息\n",
    "def read_sku():\n",
    "    return pd.read_json(r'D:\\GitHub\\Jupyter\\DataSet\\sku_data.json')\n",
    "\n",
    "# 获取文件名称\n",
    "def find_file_name(name_start):\n",
    "    for item in os.listdir():\n",
    "        if item.startswith(name_start):\n",
    "            return item\n",
    "\n",
    "# 通过ASIN信息查询SKU信息\n",
    "def parse_sku(ASIN):\n",
    "    sku_data = read_sku()\n",
    "    return pd.Series([sku_data.loc[ASIN.strip(), 'SKU']])"
   ]
  },
  {
   "cell_type": "markdown",
   "metadata": {},
   "source": [
    "## 读取Business Report数据"
   ]
  },
  {
   "cell_type": "code",
   "execution_count": 4,
   "metadata": {
    "ExecuteTime": {
     "end_time": "2020-12-24T08:59:33.847702Z",
     "start_time": "2020-12-24T08:59:33.842701Z"
    }
   },
   "outputs": [],
   "source": [
    "def read_business_report(date_value):\n",
    "    business_data = pd.read_csv(find_file_name('BusinessReport'))\n",
    "    business_data.drop(['Title', 'Session Percentage', 'Page Views Percentage', 'Units Ordered - B2B', 'Unit Session Percentage - B2B', 'Ordered Product Sales - B2B', 'Total Order Items - B2B'], axis=1, inplace=True)\n",
    "    business_data['Date'] = date_value\n",
    "    business_data = business_data.combine_first(business_data['(Child) ASIN'].apply(parse_sku))\n",
    "    business_data.rename(columns={0: 'SKU', '(Parent) ASIN': 'Parent', '(Child) ASIN': 'Child', 'Buy Box Percentage': 'Buy Box', 'Unit Session Percentage': 'CR', 'Ordered Product Sales': 'Sales', 'Total Order Items': 'Order Items'}, inplace=True)\n",
    "    business_data.sort_values(by='SKU', ascending=True, inplace=True)\n",
    "    business_data = business_data[['Date', 'Parent', 'Child', 'SKU', 'Sessions', 'Page Views', 'Order Items', 'Units Ordered', 'Sales', 'CR', 'Buy Box']]\n",
    "    return business_data"
   ]
  },
  {
   "cell_type": "markdown",
   "metadata": {},
   "source": [
    "## 读取Advertisement Report数据"
   ]
  },
  {
   "cell_type": "code",
   "execution_count": 5,
   "metadata": {
    "ExecuteTime": {
     "end_time": "2020-12-24T08:59:33.853702Z",
     "start_time": "2020-12-24T08:59:33.848702Z"
    }
   },
   "outputs": [],
   "source": [
    "def read_sponsored_report(date_value):\n",
    "    sponsored_data = pd.read_excel(find_file_name('Sponsored Products'))\n",
    "    sponsored_data = sponsored_data.query('Date==[\"{}\"]'.format(date_value))\n",
    "    sponsored_data = sponsored_data[['Date', 'Portfolio name', 'Campaign Name', 'Targeting', 'Match Type', 'Customer Search Term', 'Impressions', 'Clicks', 'Cost Per Click (CPC)', 'Spend', '7 Day Total Sales ', 'Click-Thru Rate (CTR)', '7 Day Conversion Rate', 'Total Advertising Cost of Sales (ACoS) ']].sort_values(by=['Date', 'Portfolio name', 'Campaign Name'], ascending=False)\n",
    "    sponsored_data.rename(columns={'Customer Search Term': 'Search Term', 'Cost Per Click (CPC)': 'CPC', '7 Day Total Sales ': 'Sales', 'Click-Thru Rate (CTR)': 'CTR', '7 Day Conversion Rate': 'CR', 'Total Advertising Cost of Sales (ACoS) ': 'ACOS'}, inplace=True)\n",
    "    sponsored_data['ACOS'].fillna(value=0,inplace=True)\n",
    "    return sponsored_data"
   ]
  },
  {
   "cell_type": "markdown",
   "metadata": {},
   "source": [
    "## 数据统计汇总"
   ]
  },
  {
   "cell_type": "code",
   "execution_count": 10,
   "metadata": {
    "ExecuteTime": {
     "end_time": "2020-12-24T09:34:49.388521Z",
     "start_time": "2020-12-24T09:34:49.383511Z"
    }
   },
   "outputs": [],
   "source": [
    "def calculate_data(business_data, sponsored_data):\n",
    "    # 备份数据\n",
    "    business_data_copy = business_data.copy()\n",
    "    sponsored_data_copy = sponsored_data.copy()\n",
    "    # 数据清洗，去除$符号\n",
    "    business_data_copy['money'] = business_data_copy['Sales'].apply(lambda x: x.split('$')[1]).astype('float')\n",
    "    # 分类汇总\n",
    "    business_total = business_data_copy.groupby('Parent')[['Sessions', 'Page Views', 'money']].agg([np.sum])\n",
    "    sponsored_total = sponsored_data_copy.groupby('Portfolio name')[['Clicks', 'Sales', 'Spend']].agg([np.sum])\n",
    "    # 更改行索引名称\n",
    "    transfer = {}\n",
    "    item_name = {'B08BXTW512': 'Women`s Thongs', 'B08GGBZLXQ': 'Men`s Boxer Briefs', 'B08K8PR7DK': 'women yoga leggings', 'B08M64C67V': 'men sweatshirt', 'B08M5GH26F': 'women vest', 'B08M5WMB78': 'women jacket'}\n",
    "    for i in business_total.index:\n",
    "        transfer[i] = item_name[i]\n",
    "    business_total.rename(index = transfer, inplace=True)\n",
    "    # 合并表格并返回\n",
    "    return pd.concat([business_total, sponsored_total], axis = 1, keys=['business_total', 'sponsored_total'])"
   ]
  },
  {
   "cell_type": "markdown",
   "metadata": {},
   "source": [
    "## 数据导出"
   ]
  },
  {
   "cell_type": "code",
   "execution_count": 7,
   "metadata": {
    "ExecuteTime": {
     "end_time": "2020-12-24T08:59:33.867705Z",
     "start_time": "2020-12-24T08:59:33.862706Z"
    }
   },
   "outputs": [],
   "source": [
    "def export_data(date_value):\n",
    "    business_total = read_business_report(date_value)\n",
    "    sponsored_total = read_sponsored_report(date_value)\n",
    "    total = calculate_data(business_total, sponsored_total)\n",
    "    file_name = 'data_{}.xlsx'.format(date_value.replace('/', ''))\n",
    "    writer = pd.ExcelWriter(file_name)\n",
    "    business_total.to_excel(writer, sheet_name='Business Report', index=False)\n",
    "    sponsored_total.to_excel(writer, sheet_name='Search Term Report', index=False)\n",
    "    total.to_excel(writer, sheet_name='Total')\n",
    "    writer.save()"
   ]
  },
  {
   "cell_type": "markdown",
   "metadata": {},
   "source": [
    "## 执行操作"
   ]
  },
  {
   "cell_type": "code",
   "execution_count": 11,
   "metadata": {
    "ExecuteTime": {
     "end_time": "2020-12-24T09:34:59.335407Z",
     "start_time": "2020-12-24T09:34:59.037676Z"
    },
    "scrolled": false
   },
   "outputs": [],
   "source": [
    "export_data('2020/12/21')"
   ]
  }
 ],
 "metadata": {
  "kernelspec": {
   "display_name": "Python 3",
   "language": "python",
   "name": "python3"
  },
  "language_info": {
   "codemirror_mode": {
    "name": "ipython",
    "version": 3
   },
   "file_extension": ".py",
   "mimetype": "text/x-python",
   "name": "python",
   "nbconvert_exporter": "python",
   "pygments_lexer": "ipython3",
   "version": "3.7.7"
  },
  "toc": {
   "base_numbering": 1,
   "nav_menu": {},
   "number_sections": true,
   "sideBar": true,
   "skip_h1_title": false,
   "title_cell": "Table of Contents",
   "title_sidebar": "Contents",
   "toc_cell": false,
   "toc_position": {
    "height": "calc(100% - 180px)",
    "left": "10px",
    "top": "150px",
    "width": "310px"
   },
   "toc_section_display": true,
   "toc_window_display": false
  },
  "varInspector": {
   "cols": {
    "lenName": 16,
    "lenType": 16,
    "lenVar": 40
   },
   "kernels_config": {
    "python": {
     "delete_cmd_postfix": "",
     "delete_cmd_prefix": "del ",
     "library": "var_list.py",
     "varRefreshCmd": "print(var_dic_list())"
    },
    "r": {
     "delete_cmd_postfix": ") ",
     "delete_cmd_prefix": "rm(",
     "library": "var_list.r",
     "varRefreshCmd": "cat(var_dic_list()) "
    }
   },
   "position": {
    "height": "144px",
    "left": "1556px",
    "right": "20px",
    "top": "130px",
    "width": "350px"
   },
   "types_to_exclude": [
    "module",
    "function",
    "builtin_function_or_method",
    "instance",
    "_Feature"
   ],
   "window_display": false
  }
 },
 "nbformat": 4,
 "nbformat_minor": 4
}
