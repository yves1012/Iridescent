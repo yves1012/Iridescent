{
 "cells": [
  {
   "cell_type": "code",
   "execution_count": 1,
   "metadata": {
    "ExecuteTime": {
     "end_time": "2020-12-29T05:07:59.713974Z",
     "start_time": "2020-12-29T05:07:58.920921Z"
    }
   },
   "outputs": [],
   "source": [
    "import numpy as np\n",
    "import pandas as pd\n",
    "import matplotlib.pyplot as plt"
   ]
  },
  {
   "cell_type": "code",
   "execution_count": 4,
   "metadata": {
    "ExecuteTime": {
     "end_time": "2020-12-29T05:09:29.696893Z",
     "start_time": "2020-12-29T05:09:29.673227Z"
    }
   },
   "outputs": [],
   "source": [
    "boss_data = pd.read_csv('../DataSet/boss.csv', header=None, names=['company', 'position', 'address', 'salary', 'requires', 'lables', 'tags'])"
   ]
  },
  {
   "cell_type": "code",
   "execution_count": 6,
   "metadata": {
    "ExecuteTime": {
     "end_time": "2020-12-29T05:10:09.042949Z",
     "start_time": "2020-12-29T05:10:09.019514Z"
    }
   },
   "outputs": [
    {
     "data": {
      "text/html": [
       "<div>\n",
       "<style scoped>\n",
       "    .dataframe tbody tr th:only-of-type {\n",
       "        vertical-align: middle;\n",
       "    }\n",
       "\n",
       "    .dataframe tbody tr th {\n",
       "        vertical-align: top;\n",
       "    }\n",
       "\n",
       "    .dataframe thead th {\n",
       "        text-align: right;\n",
       "    }\n",
       "</style>\n",
       "<table border=\"1\" class=\"dataframe\">\n",
       "  <thead>\n",
       "    <tr style=\"text-align: right;\">\n",
       "      <th></th>\n",
       "      <th>company</th>\n",
       "      <th>position</th>\n",
       "      <th>address</th>\n",
       "      <th>salary</th>\n",
       "      <th>requires</th>\n",
       "      <th>lables</th>\n",
       "      <th>tags</th>\n",
       "    </tr>\n",
       "  </thead>\n",
       "  <tbody>\n",
       "    <tr>\n",
       "      <th>0</th>\n",
       "      <td>安存科技</td>\n",
       "      <td>数据分析师</td>\n",
       "      <td>长沙</td>\n",
       "      <td>9-14K</td>\n",
       "      <td>1-3年本科</td>\n",
       "      <td>计算机软件</td>\n",
       "      <td>数据挖掘,大数据,工业数据,模型产品,特征工程</td>\n",
       "    </tr>\n",
       "    <tr>\n",
       "      <th>1</th>\n",
       "      <td>名利天下</td>\n",
       "      <td>数据分析师</td>\n",
       "      <td>长沙</td>\n",
       "      <td>2-3K</td>\n",
       "      <td>经验不限学历不限</td>\n",
       "      <td>移动互联网</td>\n",
       "      <td>数据挖掘,数据分析师,店铺运营管理,战略目标,策划</td>\n",
       "    </tr>\n",
       "    <tr>\n",
       "      <th>2</th>\n",
       "      <td>长沙沃邦</td>\n",
       "      <td>数据分析师</td>\n",
       "      <td>长沙</td>\n",
       "      <td>5-10K</td>\n",
       "      <td>经验不限大专</td>\n",
       "      <td>企业服务</td>\n",
       "      <td>SPSS,VBA,建模,数据分析师,统计学</td>\n",
       "    </tr>\n",
       "    <tr>\n",
       "      <th>3</th>\n",
       "      <td>谊品</td>\n",
       "      <td>数据分析师</td>\n",
       "      <td>长沙</td>\n",
       "      <td>3-8K</td>\n",
       "      <td>3-5年大专</td>\n",
       "      <td>其他服务业</td>\n",
       "      <td>Python,SQL,数据分析师,数据分析管理,</td>\n",
       "    </tr>\n",
       "    <tr>\n",
       "      <th>4</th>\n",
       "      <td>众美健康</td>\n",
       "      <td>数据分析师</td>\n",
       "      <td>长沙</td>\n",
       "      <td>10-15K</td>\n",
       "      <td>经验不限本科</td>\n",
       "      <td>计算机软件</td>\n",
       "      <td>大数据,数据挖掘,数据仓库,商业数据分析,数据分析师</td>\n",
       "    </tr>\n",
       "  </tbody>\n",
       "</table>\n",
       "</div>"
      ],
      "text/plain": [
       "  company position address  salary  requires lables  \\\n",
       "0    安存科技    数据分析师      长沙   9-14K    1-3年本科  计算机软件   \n",
       "1    名利天下    数据分析师      长沙    2-3K  经验不限学历不限  移动互联网   \n",
       "2    长沙沃邦    数据分析师      长沙   5-10K    经验不限大专   企业服务   \n",
       "3      谊品    数据分析师      长沙    3-8K    3-5年大专  其他服务业   \n",
       "4    众美健康    数据分析师      长沙  10-15K    经验不限本科  计算机软件   \n",
       "\n",
       "                         tags  \n",
       "0     数据挖掘,大数据,工业数据,模型产品,特征工程  \n",
       "1   数据挖掘,数据分析师,店铺运营管理,战略目标,策划  \n",
       "2       SPSS,VBA,建模,数据分析师,统计学  \n",
       "3    Python,SQL,数据分析师,数据分析管理,  \n",
       "4  大数据,数据挖掘,数据仓库,商业数据分析,数据分析师  "
      ]
     },
     "execution_count": 6,
     "metadata": {},
     "output_type": "execute_result"
    }
   ],
   "source": [
    "boss_data.head()"
   ]
  },
  {
   "cell_type": "code",
   "execution_count": 7,
   "metadata": {
    "ExecuteTime": {
     "end_time": "2020-12-29T05:10:15.562749Z",
     "start_time": "2020-12-29T05:10:15.551752Z"
    }
   },
   "outputs": [
    {
     "data": {
      "text/plain": [
       "(2537, 7)"
      ]
     },
     "execution_count": 7,
     "metadata": {},
     "output_type": "execute_result"
    }
   ],
   "source": [
    "boss_data.shape"
   ]
  },
  {
   "cell_type": "code",
   "execution_count": 9,
   "metadata": {
    "ExecuteTime": {
     "end_time": "2020-12-29T05:10:30.636504Z",
     "start_time": "2020-12-29T05:10:30.617141Z"
    }
   },
   "outputs": [
    {
     "data": {
      "text/plain": [
       "11"
      ]
     },
     "execution_count": 9,
     "metadata": {},
     "output_type": "execute_result"
    }
   ],
   "source": [
    "boss_data.duplicated().sum()"
   ]
  },
  {
   "cell_type": "code",
   "execution_count": 10,
   "metadata": {
    "ExecuteTime": {
     "end_time": "2020-12-29T05:10:59.386284Z",
     "start_time": "2020-12-29T05:10:59.371748Z"
    }
   },
   "outputs": [],
   "source": [
    "boss_data.drop_duplicates(keep='last', inplace=True)"
   ]
  },
  {
   "cell_type": "code",
   "execution_count": 22,
   "metadata": {
    "ExecuteTime": {
     "end_time": "2020-12-29T05:58:46.436418Z",
     "start_time": "2020-12-29T05:58:46.424335Z"
    }
   },
   "outputs": [],
   "source": [
    "# 去掉“实习”岗位\n",
    "boss_data.drop(index=boss_data[boss_data['position'].str.contains('实习')].index, inplace=True)"
   ]
  },
  {
   "cell_type": "code",
   "execution_count": 25,
   "metadata": {
    "ExecuteTime": {
     "end_time": "2020-12-29T05:59:21.314569Z",
     "start_time": "2020-12-29T05:59:21.295474Z"
    }
   },
   "outputs": [
    {
     "data": {
      "text/plain": [
       "array(['长沙', '成都', '郑州', '重庆', '南京', '武汉', '厦门', '杭州', '北京', '广州', '上海',\n",
       "       '深圳', '苏州', '天津', '西安'], dtype=object)"
      ]
     },
     "execution_count": 25,
     "metadata": {},
     "output_type": "execute_result"
    }
   ],
   "source": [
    "boss_data['address'].unique()"
   ]
  },
  {
   "cell_type": "code",
   "execution_count": 26,
   "metadata": {
    "ExecuteTime": {
     "end_time": "2020-12-29T05:59:51.168218Z",
     "start_time": "2020-12-29T05:59:51.155889Z"
    }
   },
   "outputs": [
    {
     "data": {
      "text/plain": [
       "array(['9-14K', '2-3K', '5-10K', '3-8K', '10-15K', '8-13K', '5-6K',\n",
       "       '10-15K·15薪', '8-10K·14薪', '7-9K', '10-15K·13薪', '5-9K', '5-8K',\n",
       "       '6-10K', '8-12K', '5-7K', '15-20K', '4-7K', '30-50K·14薪', '4-6K',\n",
       "       '3-7K', '10-15K·14薪', '7-8K', '4-5K', '11-18K', '12-17K·15薪',\n",
       "       '11-12K', '7-12K', '20-25K', '7-12K·13薪', '8-13K·13薪',\n",
       "       '15-25K·16薪', '4-9K', '8-10K', '4-8K', '3-6K', '12-20K', '10-11K',\n",
       "       '12-24K', '3-4K', '6-7K', '6-8K', '8-12K·13薪', '6-10K·13薪',\n",
       "       '8-11K', '12-15K·13薪', '3-5K·14薪', '6-11K', '8-15K', '10-11K·16薪',\n",
       "       '15-30K·16薪', '2-7K', '15-20K·13薪', '15-30K', '10-13K·13薪',\n",
       "       '18-35K', '12-16K·13薪', '3-5K', '12-18K·14薪', '11-22K', '14-20K',\n",
       "       '8-12K·15薪', '10-12K·15薪', '12-24K·13薪', '8-13K·15薪', '12-18K',\n",
       "       '15-25K', '20-30K·13薪', '7-10K', '11-20K·14薪', '18-35K·13薪',\n",
       "       '20-40K', '11-16K·13薪', '12-14K', '11-14K·13薪', '4-8K·13薪', '6-9K',\n",
       "       '25-35K·15薪', '15-28K·13薪', '11-20K', '8-12K·14薪', '20-30K·16薪',\n",
       "       '5-10K·13薪', '7-14K', '10-20K', '10-13K', '12-15K', '7-11K',\n",
       "       '6-9K·13薪', '12-17K', '4-6K·15薪', '15-20K·14薪', '11-13K·13薪',\n",
       "       '8-16K', '9-14K·13薪', '10-11K·14薪', '15-16K', '20-40K·18薪',\n",
       "       '9-13K·13薪', '11-18K·14薪', '8-13K·14薪', '15-25K·13薪', '22-40K',\n",
       "       '20-40K·15薪', '26-50K', '15-30K·14薪', '13-26K', '20-35K', '25-50K',\n",
       "       '11-18K·13薪', '20-35K·14薪', '8-10K·13薪', '9-10K', '4-6K·13薪',\n",
       "       '20-40K·14薪', '2-4K', '1-4K', '6-8K·13薪', '7-9K·14薪', '11-20K·13薪',\n",
       "       '7-10K·14薪', '5-8K·13薪', '4-7K·13薪', '7-11K·13薪', '14-25K·14薪',\n",
       "       '20-30K', '20-25K·19薪', '30-60K', '15-30K·13薪', '12-22K', '13-18K',\n",
       "       '15-28K', '17-28K·15薪', '13-25K', '17-34K', '30-45K', '15-25K·14薪',\n",
       "       '25-35K', '4-9K·14薪', '20-40K·16薪', '11-22K·14薪', '5-10K·14薪',\n",
       "       '12-20K·13薪', '18-28K', '30-50K·13薪', '14-25K', '18-25K·14薪',\n",
       "       '6-8K·14薪', '5-9K·13薪', '6-9K·14薪', '15-30K·15薪', '19-35K',\n",
       "       '7-10K·13薪', '13-20K·13薪', '40-70K', '9-14K·14薪', '9-13K',\n",
       "       '12-24K·14薪', '15-18K·13薪', '35-70K', '8-9K', '11-22K·13薪',\n",
       "       '30-40K', '17-30K', '11-17K', '18-35K·14薪', '4-6K·14薪', '7-8K·13薪',\n",
       "       '18-30K·14薪', '4-5K·14薪', '10-12K', '6-11K·14薪', '6-12K',\n",
       "       '4-5K·13薪', '7-12K·14薪', '1-5K', '18-19K', '13-20K', '5-8K·15薪',\n",
       "       '6-10K·14薪', '12-13K·15薪', '11-18K·15薪', '9-12K', '11-16K',\n",
       "       '15-22K·13薪', '18-30K·13薪', '13-25K·13薪', '25-40K', '5-10K·15薪',\n",
       "       '13-20K·15薪', '5-6K·13薪', '12-18K·13薪', '10-20K·18薪', '2-6K',\n",
       "       '12-20K·14薪', '15-22K', '15-16K·13薪', '30-60K·16薪', '30-50K·15薪',\n",
       "       '13-21K·13薪', '20-24K', '17-28K', '25-45K·15薪', '17-25K',\n",
       "       '25-50K·16薪', '20-21K·16薪', '17-25K·13薪', '15-25K·15薪',\n",
       "       '16-25K·14薪', '30-45K·16薪', '20-35K·15薪', '20-30K·15薪',\n",
       "       '20-27K·15薪', '50-80K·16薪', '22-27K', '28-50K·13薪', '18-30K',\n",
       "       '16-30K·14薪', '25-45K', '20-30K·14薪', '15-30K·17薪', '13-25K·14薪',\n",
       "       '18-27K', '20-40K·13薪', '18-36K', '20-35K·16薪', '25-35K·13薪',\n",
       "       '25-30K·15薪', '25-30K', '28-40K·14薪', '25-45K·16薪', '25-50K·14薪',\n",
       "       '15-25K·17薪', '25-40K·16薪', '35-40K', '10-15K·16薪', '6-10K·15薪',\n",
       "       '20-35K·13薪', '19-32K·16薪', '30-50K·16薪', '25-30K·14薪',\n",
       "       '7-11K·15薪', '40-70K·16薪', '25-40K·15薪', '30-55K·18薪',\n",
       "       '25-35K·14薪', '18-25K', '16-30K', '12-18K·15薪', '30-50K',\n",
       "       '30-50K·18薪', '30-35K·16薪', '25-45K·14薪', '12-20K·17薪',\n",
       "       '12-20K·15薪', '14-28K', '30-55K', '60-90K', '25-40K·13薪', '65-95K',\n",
       "       '25-50K·13薪', '16-30K·16薪', '24-38K', '45-60K', '26-35K',\n",
       "       '18-35K·16薪', '30-45K·15薪', '25-50K·15薪', '25-45K·13薪',\n",
       "       '30-55K·13薪', '50-80K·14薪', '40-55K·13薪', '19-30K·14薪', '22-30K',\n",
       "       '35-55K·14薪', '21-40K·15薪', '17-25K·15薪', '15-26K', '35-60K·14薪',\n",
       "       '18-35K·15薪', '30-40K·16薪', '30-60K·15薪', '30-55K·16薪',\n",
       "       '28-40K·16薪', '90-120K·14薪', '35-55K·16薪', '20-25K·15薪',\n",
       "       '20-40K·24薪', '40-50K·15薪', '25-35K·16薪', '25-40K·14薪',\n",
       "       '35-65K·16薪', '30-45K·14薪', '40-65K·14薪', '28-45K·14薪',\n",
       "       '30-60K·14薪', '22-40K·14薪', '28-45K·16薪', '18-25K·16薪',\n",
       "       '9-14K·16薪', '15-23K', '60-90K·16薪', '12-24K·16薪', '15-23K·13薪',\n",
       "       '12-20K·16薪', '13-18K·15薪', '11-20K·15薪', '9-12K·15薪',\n",
       "       '10-13K·14薪', '18-28K·16薪', '23-24K', '25-50K·18薪', '35-50K',\n",
       "       '18-28K·13薪', '15-17K', '8-11K·13薪', '15-18K', '12-17K·14薪',\n",
       "       '16-23K', '30-35K', '13-23K', '14-28K·13薪', '40-60K', '16-22K·13薪',\n",
       "       '14-20K·13薪', '15-26K·13薪', '30-35K·15薪', '18-30K·15薪',\n",
       "       '12-22K·22薪', '18-25K·15薪', '28-35K·13薪', '40-60K·14薪',\n",
       "       '18-25K·13薪', '20-21K·14薪', '12-23K·13薪', '40-70K·14薪',\n",
       "       '25-50K·17薪', '25-30K·13薪', '15-23K·14薪', '18-26K', '16-25K·13薪',\n",
       "       '7-10K·16薪', '12-18K·16薪', '13-18K·14薪', '15-20K·15薪', '7-9K·13薪',\n",
       "       '30-40K·14薪', '28-40K·15薪', '40-60K·15薪', '14-28K·14薪',\n",
       "       '15-30K·18薪', '16-25K', '12-16K·15薪', '30-55K·15薪', '12-20K·18薪',\n",
       "       '8-9K·13薪', '12-19K·13薪', '15-24K·15薪', '20-21K', '17-18K',\n",
       "       '50-80K', '13-26K·16薪', '16-30K·15薪', '11-22K·18薪', '30-60K·13薪',\n",
       "       '35-50K·15薪', '35-50K·16薪', '18-22K', '28-45K', '23-45K·16薪',\n",
       "       '13-16K', '16-21K·14薪', '11-16K·14薪', '6-11K·13薪', '6-7K·13薪',\n",
       "       '5-7K·13薪', '2-5K', '11-15K', '9-15K', '8-14K', '5-8K·14薪',\n",
       "       '3-5K·13薪', '6-8K·15薪', '6-9K·15薪', '6-11K·15薪'], dtype=object)"
      ]
     },
     "execution_count": 26,
     "metadata": {},
     "output_type": "execute_result"
    }
   ],
   "source": [
    "boss_data['salary'].unique()"
   ]
  },
  {
   "cell_type": "code",
   "execution_count": null,
   "metadata": {},
   "outputs": [],
   "source": []
  },
  {
   "cell_type": "code",
   "execution_count": null,
   "metadata": {},
   "outputs": [],
   "source": []
  },
  {
   "cell_type": "code",
   "execution_count": null,
   "metadata": {},
   "outputs": [],
   "source": []
  },
  {
   "cell_type": "code",
   "execution_count": null,
   "metadata": {},
   "outputs": [],
   "source": []
  },
  {
   "cell_type": "code",
   "execution_count": null,
   "metadata": {},
   "outputs": [],
   "source": []
  },
  {
   "cell_type": "code",
   "execution_count": null,
   "metadata": {},
   "outputs": [],
   "source": []
  },
  {
   "cell_type": "code",
   "execution_count": null,
   "metadata": {},
   "outputs": [],
   "source": []
  },
  {
   "cell_type": "code",
   "execution_count": null,
   "metadata": {},
   "outputs": [],
   "source": []
  },
  {
   "cell_type": "code",
   "execution_count": null,
   "metadata": {},
   "outputs": [],
   "source": []
  }
 ],
 "metadata": {
  "kernelspec": {
   "display_name": "Python 3",
   "language": "python",
   "name": "python3"
  },
  "language_info": {
   "codemirror_mode": {
    "name": "ipython",
    "version": 3
   },
   "file_extension": ".py",
   "mimetype": "text/x-python",
   "name": "python",
   "nbconvert_exporter": "python",
   "pygments_lexer": "ipython3",
   "version": "3.7.7"
  },
  "toc": {
   "base_numbering": 1,
   "nav_menu": {},
   "number_sections": true,
   "sideBar": true,
   "skip_h1_title": false,
   "title_cell": "Table of Contents",
   "title_sidebar": "Contents",
   "toc_cell": false,
   "toc_position": {},
   "toc_section_display": true,
   "toc_window_display": false
  }
 },
 "nbformat": 4,
 "nbformat_minor": 4
}
