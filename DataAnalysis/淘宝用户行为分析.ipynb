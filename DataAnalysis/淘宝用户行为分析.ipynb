{
 "cells": [
  {
   "cell_type": "markdown",
   "metadata": {},
   "source": [
    "## 项目背景"
   ]
  },
  {
   "cell_type": "markdown",
   "metadata": {},
   "source": [
    "以淘宝APP平台用户数据为数据集，通过行业的指标对淘宝用户行为进行分析，从而探索淘宝用户的行为模式，具体指标包括：日PV和日UV分析，付费率分析，复购行为分析，漏斗流失分析和用户价值RFM分析。"
   ]
  },
  {
   "cell_type": "markdown",
   "metadata": {},
   "source": [
    "## 数据来源"
   ]
  },
  {
   "cell_type": "markdown",
   "metadata": {},
   "source": [
    "[阿里云天池](https://tianchi.aliyun.com/dataset/dataDetail?dataId=46&userId=1)"
   ]
  },
  {
   "cell_type": "markdown",
   "metadata": {},
   "source": [
    "## 数据说明"
   ]
  },
  {
   "cell_type": "markdown",
   "metadata": {},
   "source": [
    "该数据集有淘宝APP于2014年11月18日至2014年12月18日的用户行为数据1200万条，数据已经完成脱敏，共计6个字段，分别是：\n",
    "* user_id：用户身份\n",
    "* item_id：商品ID\n",
    "* behavior_type：用户行为类型（包含点击、收藏、加购物车、支付四种行为，分别用数字1、2、3、4表示）\n",
    "* user_geohash：地理位置（已加密）\n",
    "* item_category：品类ID（商品所属的品类）\n",
    "* time：用户行为发生的时间"
   ]
  },
  {
   "cell_type": "markdown",
   "metadata": {},
   "source": [
    "## 数据清洗"
   ]
  },
  {
   "cell_type": "code",
   "execution_count": 1,
   "metadata": {
    "ExecuteTime": {
     "end_time": "2020-12-23T02:49:27.087834Z",
     "start_time": "2020-12-23T02:49:24.591089Z"
    }
   },
   "outputs": [],
   "source": [
    "import numpy as np\n",
    "import pandas as pd\n",
    "import matplotlib.pyplot as plt\n",
    "import seaborn as sns"
   ]
  },
  {
   "cell_type": "markdown",
   "metadata": {
    "ExecuteTime": {
     "end_time": "2020-12-23T01:54:13.552259Z",
     "start_time": "2020-12-23T01:54:13.544977Z"
    }
   },
   "source": [
    "### 读取数据"
   ]
  },
  {
   "cell_type": "code",
   "execution_count": 2,
   "metadata": {
    "ExecuteTime": {
     "end_time": "2020-12-23T02:49:36.003678Z",
     "start_time": "2020-12-23T02:49:28.647330Z"
    }
   },
   "outputs": [],
   "source": [
    "user_data = pd.read_csv('./tianchi_mobile_recommend_train_user.csv')"
   ]
  },
  {
   "cell_type": "markdown",
   "metadata": {},
   "source": [
    "### 缺失值处理"
   ]
  },
  {
   "cell_type": "code",
   "execution_count": 4,
   "metadata": {
    "ExecuteTime": {
     "end_time": "2020-12-23T02:26:19.268124Z",
     "start_time": "2020-12-23T02:26:18.203292Z"
    }
   },
   "outputs": [
    {
     "data": {
      "text/plain": [
       "user_id                0\n",
       "item_id                0\n",
       "behavior_type          0\n",
       "user_geohash     8334824\n",
       "item_category          0\n",
       "time                   0\n",
       "dtype: int64"
      ]
     },
     "execution_count": 4,
     "metadata": {},
     "output_type": "execute_result"
    }
   ],
   "source": [
    "user_data.isnull().sum()"
   ]
  },
  {
   "cell_type": "markdown",
   "metadata": {},
   "source": [
    "存在缺失值的是User_geohash，有83348245条，因为地理信息在数据集收集过程中做过加密转换，因此不做处理。"
   ]
  },
  {
   "cell_type": "markdown",
   "metadata": {},
   "source": [
    "### 数据排序"
   ]
  },
  {
   "cell_type": "code",
   "execution_count": 3,
   "metadata": {
    "ExecuteTime": {
     "end_time": "2020-12-23T02:50:14.036598Z",
     "start_time": "2020-12-23T02:49:41.179259Z"
    }
   },
   "outputs": [],
   "source": [
    "# 按时间升序排列\n",
    "user_data.sort_values(by='time', inplace=True)"
   ]
  },
  {
   "cell_type": "code",
   "execution_count": 4,
   "metadata": {
    "ExecuteTime": {
     "end_time": "2020-12-23T02:50:20.188284Z",
     "start_time": "2020-12-23T02:50:20.174943Z"
    }
   },
   "outputs": [],
   "source": [
    "# 重置序号\n",
    "user_data.reset_index(drop=True, inplace=True)"
   ]
  },
  {
   "cell_type": "markdown",
   "metadata": {},
   "source": [
    "### 数据拆分"
   ]
  },
  {
   "cell_type": "code",
   "execution_count": 5,
   "metadata": {
    "ExecuteTime": {
     "end_time": "2020-12-23T02:50:37.962004Z",
     "start_time": "2020-12-23T02:50:25.286980Z"
    }
   },
   "outputs": [],
   "source": [
    "# 提取time中的日期与小时\n",
    "user_data['date'] = user_data['time'].apply(lambda x: x.split(' ')[0]) \n",
    "user_data['hour'] = user_data['time'].apply(lambda x: x.split(' ')[1])"
   ]
  },
  {
   "cell_type": "markdown",
   "metadata": {
    "ExecuteTime": {
     "end_time": "2020-12-23T02:01:30.339862Z",
     "start_time": "2020-12-23T02:01:30.299433Z"
    }
   },
   "source": [
    "### 数据类型转换"
   ]
  },
  {
   "cell_type": "code",
   "execution_count": 6,
   "metadata": {
    "ExecuteTime": {
     "end_time": "2020-12-23T02:51:08.729616Z",
     "start_time": "2020-12-23T02:51:02.986946Z"
    }
   },
   "outputs": [],
   "source": [
    "# 数据类型转化\n",
    "user_data['time'] = pd.to_datetime(user_data['time'])\n",
    "user_data['date'] = pd.to_datetime(user_data['date'])\n",
    "user_data['hour'] = user_data['hour'].astype('int64')"
   ]
  },
  {
   "cell_type": "code",
   "execution_count": 7,
   "metadata": {
    "ExecuteTime": {
     "end_time": "2020-12-23T02:51:14.039561Z",
     "start_time": "2020-12-23T02:51:14.023391Z"
    },
    "scrolled": true
   },
   "outputs": [
    {
     "data": {
      "text/plain": [
       "user_id                   int64\n",
       "item_id                   int64\n",
       "behavior_type             int64\n",
       "user_geohash             object\n",
       "item_category             int64\n",
       "time             datetime64[ns]\n",
       "date             datetime64[ns]\n",
       "hour                      int64\n",
       "dtype: object"
      ]
     },
     "execution_count": 7,
     "metadata": {},
     "output_type": "execute_result"
    }
   ],
   "source": [
    "user_data.dtypes"
   ]
  },
  {
   "cell_type": "markdown",
   "metadata": {},
   "source": [
    "### 数据总体情况预览"
   ]
  },
  {
   "cell_type": "code",
   "execution_count": 9,
   "metadata": {
    "ExecuteTime": {
     "end_time": "2020-12-23T02:51:23.291534Z",
     "start_time": "2020-12-23T02:51:23.267497Z"
    }
   },
   "outputs": [
    {
     "data": {
      "text/html": [
       "<div>\n",
       "<style scoped>\n",
       "    .dataframe tbody tr th:only-of-type {\n",
       "        vertical-align: middle;\n",
       "    }\n",
       "\n",
       "    .dataframe tbody tr th {\n",
       "        vertical-align: top;\n",
       "    }\n",
       "\n",
       "    .dataframe thead th {\n",
       "        text-align: right;\n",
       "    }\n",
       "</style>\n",
       "<table border=\"1\" class=\"dataframe\">\n",
       "  <thead>\n",
       "    <tr style=\"text-align: right;\">\n",
       "      <th></th>\n",
       "      <th>user_id</th>\n",
       "      <th>item_id</th>\n",
       "      <th>behavior_type</th>\n",
       "      <th>user_geohash</th>\n",
       "      <th>item_category</th>\n",
       "      <th>time</th>\n",
       "      <th>date</th>\n",
       "      <th>hour</th>\n",
       "    </tr>\n",
       "  </thead>\n",
       "  <tbody>\n",
       "    <tr>\n",
       "      <th>0</th>\n",
       "      <td>73462715</td>\n",
       "      <td>378485233</td>\n",
       "      <td>1</td>\n",
       "      <td>NaN</td>\n",
       "      <td>9130</td>\n",
       "      <td>2014-11-18</td>\n",
       "      <td>2014-11-18</td>\n",
       "      <td>0</td>\n",
       "    </tr>\n",
       "    <tr>\n",
       "      <th>1</th>\n",
       "      <td>36090137</td>\n",
       "      <td>236748115</td>\n",
       "      <td>1</td>\n",
       "      <td>NaN</td>\n",
       "      <td>10523</td>\n",
       "      <td>2014-11-18</td>\n",
       "      <td>2014-11-18</td>\n",
       "      <td>0</td>\n",
       "    </tr>\n",
       "    <tr>\n",
       "      <th>2</th>\n",
       "      <td>40459733</td>\n",
       "      <td>155218177</td>\n",
       "      <td>1</td>\n",
       "      <td>NaN</td>\n",
       "      <td>8561</td>\n",
       "      <td>2014-11-18</td>\n",
       "      <td>2014-11-18</td>\n",
       "      <td>0</td>\n",
       "    </tr>\n",
       "    <tr>\n",
       "      <th>3</th>\n",
       "      <td>814199</td>\n",
       "      <td>149808524</td>\n",
       "      <td>1</td>\n",
       "      <td>NaN</td>\n",
       "      <td>9053</td>\n",
       "      <td>2014-11-18</td>\n",
       "      <td>2014-11-18</td>\n",
       "      <td>0</td>\n",
       "    </tr>\n",
       "    <tr>\n",
       "      <th>4</th>\n",
       "      <td>113309982</td>\n",
       "      <td>5730861</td>\n",
       "      <td>1</td>\n",
       "      <td>NaN</td>\n",
       "      <td>3783</td>\n",
       "      <td>2014-11-18</td>\n",
       "      <td>2014-11-18</td>\n",
       "      <td>0</td>\n",
       "    </tr>\n",
       "  </tbody>\n",
       "</table>\n",
       "</div>"
      ],
      "text/plain": [
       "     user_id    item_id  behavior_type user_geohash  item_category       time  \\\n",
       "0   73462715  378485233              1          NaN           9130 2014-11-18   \n",
       "1   36090137  236748115              1          NaN          10523 2014-11-18   \n",
       "2   40459733  155218177              1          NaN           8561 2014-11-18   \n",
       "3     814199  149808524              1          NaN           9053 2014-11-18   \n",
       "4  113309982    5730861              1          NaN           3783 2014-11-18   \n",
       "\n",
       "        date  hour  \n",
       "0 2014-11-18     0  \n",
       "1 2014-11-18     0  \n",
       "2 2014-11-18     0  \n",
       "3 2014-11-18     0  \n",
       "4 2014-11-18     0  "
      ]
     },
     "execution_count": 9,
     "metadata": {},
     "output_type": "execute_result"
    }
   ],
   "source": [
    "user_data.head()"
   ]
  },
  {
   "cell_type": "code",
   "execution_count": 8,
   "metadata": {
    "ExecuteTime": {
     "end_time": "2020-12-23T02:51:21.285493Z",
     "start_time": "2020-12-23T02:51:18.517678Z"
    },
    "scrolled": false
   },
   "outputs": [
    {
     "data": {
      "text/html": [
       "<div>\n",
       "<style scoped>\n",
       "    .dataframe tbody tr th:only-of-type {\n",
       "        vertical-align: middle;\n",
       "    }\n",
       "\n",
       "    .dataframe tbody tr th {\n",
       "        vertical-align: top;\n",
       "    }\n",
       "\n",
       "    .dataframe thead th {\n",
       "        text-align: right;\n",
       "    }\n",
       "</style>\n",
       "<table border=\"1\" class=\"dataframe\">\n",
       "  <thead>\n",
       "    <tr style=\"text-align: right;\">\n",
       "      <th></th>\n",
       "      <th>user_id</th>\n",
       "      <th>item_id</th>\n",
       "      <th>behavior_type</th>\n",
       "      <th>item_category</th>\n",
       "      <th>hour</th>\n",
       "    </tr>\n",
       "  </thead>\n",
       "  <tbody>\n",
       "    <tr>\n",
       "      <th>count</th>\n",
       "      <td>1.225691e+07</td>\n",
       "      <td>1.225691e+07</td>\n",
       "      <td>1.225691e+07</td>\n",
       "      <td>1.225691e+07</td>\n",
       "      <td>1.225691e+07</td>\n",
       "    </tr>\n",
       "    <tr>\n",
       "      <th>mean</th>\n",
       "      <td>7.170732e+07</td>\n",
       "      <td>2.023084e+08</td>\n",
       "      <td>1.105271e+00</td>\n",
       "      <td>6.846162e+03</td>\n",
       "      <td>1.481799e+01</td>\n",
       "    </tr>\n",
       "    <tr>\n",
       "      <th>std</th>\n",
       "      <td>4.122920e+07</td>\n",
       "      <td>1.167397e+08</td>\n",
       "      <td>4.572662e-01</td>\n",
       "      <td>3.809922e+03</td>\n",
       "      <td>6.474778e+00</td>\n",
       "    </tr>\n",
       "    <tr>\n",
       "      <th>min</th>\n",
       "      <td>4.913000e+03</td>\n",
       "      <td>6.400000e+01</td>\n",
       "      <td>1.000000e+00</td>\n",
       "      <td>2.000000e+00</td>\n",
       "      <td>0.000000e+00</td>\n",
       "    </tr>\n",
       "    <tr>\n",
       "      <th>25%</th>\n",
       "      <td>3.584965e+07</td>\n",
       "      <td>1.014130e+08</td>\n",
       "      <td>1.000000e+00</td>\n",
       "      <td>3.721000e+03</td>\n",
       "      <td>1.000000e+01</td>\n",
       "    </tr>\n",
       "    <tr>\n",
       "      <th>50%</th>\n",
       "      <td>7.292804e+07</td>\n",
       "      <td>2.021359e+08</td>\n",
       "      <td>1.000000e+00</td>\n",
       "      <td>6.209000e+03</td>\n",
       "      <td>1.600000e+01</td>\n",
       "    </tr>\n",
       "    <tr>\n",
       "      <th>75%</th>\n",
       "      <td>1.073774e+08</td>\n",
       "      <td>3.035405e+08</td>\n",
       "      <td>1.000000e+00</td>\n",
       "      <td>1.029000e+04</td>\n",
       "      <td>2.000000e+01</td>\n",
       "    </tr>\n",
       "    <tr>\n",
       "      <th>max</th>\n",
       "      <td>1.424559e+08</td>\n",
       "      <td>4.045625e+08</td>\n",
       "      <td>4.000000e+00</td>\n",
       "      <td>1.408000e+04</td>\n",
       "      <td>2.300000e+01</td>\n",
       "    </tr>\n",
       "  </tbody>\n",
       "</table>\n",
       "</div>"
      ],
      "text/plain": [
       "            user_id       item_id  behavior_type  item_category          hour\n",
       "count  1.225691e+07  1.225691e+07   1.225691e+07   1.225691e+07  1.225691e+07\n",
       "mean   7.170732e+07  2.023084e+08   1.105271e+00   6.846162e+03  1.481799e+01\n",
       "std    4.122920e+07  1.167397e+08   4.572662e-01   3.809922e+03  6.474778e+00\n",
       "min    4.913000e+03  6.400000e+01   1.000000e+00   2.000000e+00  0.000000e+00\n",
       "25%    3.584965e+07  1.014130e+08   1.000000e+00   3.721000e+03  1.000000e+01\n",
       "50%    7.292804e+07  2.021359e+08   1.000000e+00   6.209000e+03  1.600000e+01\n",
       "75%    1.073774e+08  3.035405e+08   1.000000e+00   1.029000e+04  2.000000e+01\n",
       "max    1.424559e+08  4.045625e+08   4.000000e+00   1.408000e+04  2.300000e+01"
      ]
     },
     "execution_count": 8,
     "metadata": {},
     "output_type": "execute_result"
    }
   ],
   "source": [
    "user_data.describe()"
   ]
  },
  {
   "cell_type": "markdown",
   "metadata": {},
   "source": [
    "## 用户行为分析"
   ]
  },
  {
   "cell_type": "markdown",
   "metadata": {},
   "source": [
    "### 名词解释"
   ]
  },
  {
   "cell_type": "markdown",
   "metadata": {},
   "source": [
    "PV(访问量)：即Page View, 指网站的页面浏览量或者点击量，页面刷新一次就计算一次。\n",
    "\n",
    "UV(独立访客)：即Unique Visitor,访问网站的一台电脑客户端（IP）为一个访客。"
   ]
  },
  {
   "cell_type": "markdown",
   "metadata": {},
   "source": [
    "### 日访问量分析"
   ]
  },
  {
   "cell_type": "code",
   "execution_count": 12,
   "metadata": {
    "ExecuteTime": {
     "end_time": "2020-12-23T02:27:42.349758Z",
     "start_time": "2020-12-23T02:27:42.125999Z"
    }
   },
   "outputs": [],
   "source": [
    "# pv_daily记录每天用户操作次数\n",
    "pv_daily = user_data.groupby('date')['user_id'].count().reset_index().rename(columns={'user_id':'pv'})"
   ]
  },
  {
   "cell_type": "code",
   "execution_count": 14,
   "metadata": {
    "ExecuteTime": {
     "end_time": "2020-12-23T02:27:57.833673Z",
     "start_time": "2020-12-23T02:27:56.649917Z"
    }
   },
   "outputs": [],
   "source": [
    "# uv_daily记录每天不同的上线用户数量\n",
    "uv_daily = user_data.groupby('date')['user_id'].apply(lambda x : x.drop_duplicates().count()).reset_index().reset_index().rename(columns={'user_id':'uv'})"
   ]
  },
  {
   "cell_type": "code",
   "execution_count": 16,
   "metadata": {
    "ExecuteTime": {
     "end_time": "2020-12-23T02:29:17.653249Z",
     "start_time": "2020-12-23T02:29:16.974927Z"
    },
    "scrolled": true
   },
   "outputs": [
    {
     "data": {
      "text/plain": [
       "Text(0.5, 1.0, 'uv_daily')"
      ]
     },
     "execution_count": 16,
     "metadata": {},
     "output_type": "execute_result"
    },
    {
     "data": {
      "image/png": "[encoded data removed]",
      "text/plain": [
       "<Figure size 432x288 with 2 Axes>"
      ]
     },
     "metadata": {
      "needs_background": "light"
     },
     "output_type": "display_data"
    }
   ],
   "source": [
    "fig, axes = plt.subplots(2, 1, sharex=True)\n",
    "pv_daily.plot(x='date', y='pv', ax=axes[0])\n",
    "uv_daily.plot(x='date', y='uv', ax=axes[1])\n",
    "axes[0].set_title('pv_daily')\n",
    "axes[1].set_title('uv_daily')"
   ]
  },
  {
   "cell_type": "code",
   "execution_count": 23,
   "metadata": {
    "ExecuteTime": {
     "end_time": "2020-12-23T02:38:24.256637Z",
     "start_time": "2020-12-23T02:38:24.142891Z"
    }
   },
   "outputs": [
    {
     "data": {
      "text/plain": [
       "10000"
      ]
     },
     "execution_count": 23,
     "metadata": {},
     "output_type": "execute_result"
    }
   ],
   "source": [
    "# 数据集中用户样本数\n",
    "len(user_data['user_id'].unique())"
   ]
  },
  {
   "cell_type": "markdown",
   "metadata": {},
   "source": [
    "在双12期间，访问量与浏览量都达到了峰值水平，但是，PV与UV的数值差异较大,由于数据集中的用户数量是10000，因而可以测算出，双12期间淘宝用户日活跃处于50%浮动区间，其中在12日当天达到顶峰，活跃率80%。"
   ]
  },
  {
   "cell_type": "markdown",
   "metadata": {},
   "source": [
    "### 时段访问量分析"
   ]
  },
  {
   "cell_type": "code",
   "execution_count": 10,
   "metadata": {
    "ExecuteTime": {
     "end_time": "2020-12-23T02:51:32.341772Z",
     "start_time": "2020-12-23T02:51:32.118072Z"
    }
   },
   "outputs": [],
   "source": [
    "# pv_hour记录每小时用户浏览次数\n",
    "pv_hour = user_data.groupby('hour')['user_id'].count().reset_index().rename(columns={'user_id':'pv'})"
   ]
  },
  {
   "cell_type": "code",
   "execution_count": 11,
   "metadata": {
    "ExecuteTime": {
     "end_time": "2020-12-23T02:51:37.518537Z",
     "start_time": "2020-12-23T02:51:36.636555Z"
    }
   },
   "outputs": [],
   "source": [
    "# uv_hour记录每小时用户数\n",
    "uv_hour = user_data.groupby('hour')['user_id'].apply(lambda x : x.drop_duplicates().count()).reset_index().reset_index().rename(columns={'user_id':'uv'})"
   ]
  },
  {
   "cell_type": "code",
   "execution_count": 13,
   "metadata": {
    "ExecuteTime": {
     "end_time": "2020-12-23T02:52:29.445961Z",
     "start_time": "2020-12-23T02:52:29.040044Z"
    },
    "scrolled": true
   },
   "outputs": [
    {
     "data": {
      "text/plain": [
       "Text(0.5, 1.0, 'uv_hour')"
      ]
     },
     "execution_count": 13,
     "metadata": {},
     "output_type": "execute_result"
    },
    {
     "data": {
      "image/png": "[encoded data removed]",
      "text/plain": [
       "<Figure size 432x288 with 2 Axes>"
      ]
     },
     "metadata": {
      "needs_background": "light"
     },
     "output_type": "display_data"
    }
   ],
   "source": [
    "fig, axes = plt.subplots(2, 1, sharex=True)\n",
    "pv_hour.plot(x='hour', y='pv', ax=axes[0])\n",
    "uv_hour.plot(x='hour', y='uv', ax=axes[1])\n",
    "axes[0].set_title('pv_hour')\n",
    "axes[1].set_title('uv_hour')"
   ]
  },
  {
   "cell_type": "markdown",
   "metadata": {},
   "source": [
    "数据显示：0~5点，无论是UV还是PV数据都呈大幅下降趋势，触底后反弹，其中，UV趋势要比PV明显；在傍晚18点左右，PV数据开始大幅上升，这也是用户的活跃时段。"
   ]
  },
  {
   "cell_type": "markdown",
   "metadata": {
    "ExecuteTime": {
     "end_time": "2020-12-23T02:58:46.812321Z",
     "start_time": "2020-12-23T02:58:46.809076Z"
    }
   },
   "source": [
    "### 用户行为分析"
   ]
  },
  {
   "cell_type": "code",
   "execution_count": 21,
   "metadata": {
    "ExecuteTime": {
     "end_time": "2020-12-23T03:02:22.933738Z",
     "start_time": "2020-12-23T03:02:22.373324Z"
    }
   },
   "outputs": [],
   "source": [
    "# 不同行文在不同时段的PV数据\n",
    "pv_detail = user_data.groupby(['behavior_type','hour'])['user_id'].count().reset_index().rename(columns={'user_id': 'total_pv'})"
   ]
  },
  {
   "cell_type": "code",
   "execution_count": 23,
   "metadata": {
    "ExecuteTime": {
     "end_time": "2020-12-23T03:05:10.332295Z",
     "start_time": "2020-12-23T03:05:08.477338Z"
    }
   },
   "outputs": [
    {
     "data": {
      "text/plain": [
       "Text(0.5, 1.0, 'pv_different_behavior_type_except_click')"
      ]
     },
     "execution_count": 23,
     "metadata": {},
     "output_type": "execute_result"
    },
    {
     "data": {
      "image/png": "[encoded data removed]",
      "text/plain": [
       "<Figure size 432x288 with 2 Axes>"
      ]
     },
     "metadata": {
      "needs_background": "light"
     },
     "output_type": "display_data"
    }
   ],
   "source": [
    "fig, axes = plt.subplots(2, 1, sharex=True)\n",
    "sns.pointplot(x='hour', y='total_pv', hue='behavior_type', data=pv_detail, ax=axes[0])\n",
    "sns.pointplot(x='hour', y='total_pv', hue='behavior_type', data=pv_detail[pv_detail.behavior_type !=1 ], ax=axes[1])\n",
    "axes[0].set_title('pv_different_behavior_type')\n",
    "axes[1].set_title('pv_different_behavior_type_except_click')"
   ]
  },
  {
   "cell_type": "markdown",
   "metadata": {},
   "source": [
    "点击行为的的PV访问量较其他3种用户行为较高，其他3种用户行为的数据变化趋势大体一致；晚上的用户访问量最大，同时根据表2可以看出，加购物车用户行文的PV浏览量要明显高于收藏行为，因此在后续漏斗流失分析中，用户类型3应该在2之前分析。"
   ]
  },
  {
   "cell_type": "markdown",
   "metadata": {},
   "source": [
    "## 消费行为分析"
   ]
  },
  {
   "cell_type": "markdown",
   "metadata": {},
   "source": [
    "### 用户购买次数分析"
   ]
  },
  {
   "cell_type": "code",
   "execution_count": 28,
   "metadata": {
    "ExecuteTime": {
     "end_time": "2020-12-23T03:44:17.901594Z",
     "start_time": "2020-12-23T03:44:17.836937Z"
    }
   },
   "outputs": [],
   "source": [
    "# 获取用户购买次数信息\n",
    "user_buy = user_data[user_data['behavior_type']==4].groupby('user_id')['behavior_type'].count()"
   ]
  },
  {
   "cell_type": "code",
   "execution_count": 32,
   "metadata": {
    "ExecuteTime": {
     "end_time": "2020-12-23T03:45:49.385148Z",
     "start_time": "2020-12-23T03:45:47.593267Z"
    }
   },
   "outputs": [
    {
     "data": {
      "text/plain": [
       "Text(0.5, 1.0, 'daily_user_buy')"
      ]
     },
     "execution_count": 32,
     "metadata": {},
     "output_type": "execute_result"
    },
    {
     "data": {
      "image/png": "[encoded data removed]",
      "text/plain": [
       "<Figure size 360x360 with 1 Axes>"
      ]
     },
     "metadata": {
      "needs_background": "light"
     },
     "output_type": "display_data"
    }
   ],
   "source": [
    "sns.displot(user_buy, kde=False)\n",
    "plt.title('daily_user_buy')"
   ]
  },
  {
   "cell_type": "markdown",
   "metadata": {},
   "source": [
    "数据显示，淘宝用户消费次数普遍在10次左右，随着消费次数下降，消费人数也随之下降。"
   ]
  },
  {
   "cell_type": "markdown",
   "metadata": {},
   "source": [
    "### 付费率分析"
   ]
  },
  {
   "cell_type": "code",
   "execution_count": 38,
   "metadata": {
    "ExecuteTime": {
     "end_time": "2020-12-23T03:58:23.439899Z",
     "start_time": "2020-12-23T03:58:21.566199Z"
    }
   },
   "outputs": [
    {
     "data": {
      "text/plain": [
       "Text(0.5, 1.0, 'daily_afford_rate')"
      ]
     },
     "execution_count": 38,
     "metadata": {},
     "output_type": "execute_result"
    },
    {
     "data": {
      "image/png": "[encoded data removed]",
      "text/plain": [
       "<Figure size 432x288 with 1 Axes>"
      ]
     },
     "metadata": {
      "needs_background": "light"
     },
     "output_type": "display_data"
    }
   ],
   "source": [
    "user_data.groupby('date').apply(lambda x:x[x.behavior_type==4]['behavior_type'].count()/len(x.user_id.unique())).plot()\n",
    "plt.title('daily_afford_rate')"
   ]
  },
  {
   "cell_type": "markdown",
   "metadata": {},
   "source": [
    "### 消费次数分析"
   ]
  },
  {
   "cell_type": "code",
   "execution_count": 55,
   "metadata": {
    "ExecuteTime": {
     "end_time": "2020-12-23T04:10:42.957862Z",
     "start_time": "2020-12-23T04:10:42.856838Z"
    }
   },
   "outputs": [],
   "source": [
    "user_buy_times = user_data[user_data.behavior_type==4].groupby(['user_id','date','hour'])['behavior_type'].sum()"
   ]
  },
  {
   "cell_type": "code",
   "execution_count": 56,
   "metadata": {
    "ExecuteTime": {
     "end_time": "2020-12-23T04:10:49.991505Z",
     "start_time": "2020-12-23T04:10:44.651161Z"
    }
   },
   "outputs": [
    {
     "data": {
      "text/plain": [
       "<seaborn.axisgrid.FacetGrid at 0x13100fed0>"
      ]
     },
     "execution_count": 56,
     "metadata": {},
     "output_type": "execute_result"
    },
    {
     "data": {
      "image/png": "[encoded data removed]",
      "text/plain": [
       "<Figure size 360x360 with 1 Axes>"
      ]
     },
     "metadata": {
      "needs_background": "light"
     },
     "output_type": "display_data"
    }
   ],
   "source": [
    "sns.displot(user_buy_times)"
   ]
  },
  {
   "cell_type": "markdown",
   "metadata": {},
   "source": [
    "绝大多数用户的购买次数都在5次左右。"
   ]
  },
  {
   "cell_type": "markdown",
   "metadata": {},
   "source": [
    "## 复购情况分析"
   ]
  },
  {
   "cell_type": "markdown",
   "metadata": {},
   "source": [
    "### 复购率"
   ]
  },
  {
   "cell_type": "markdown",
   "metadata": {},
   "source": [
    "复购情况，即两天以上有购买行为,一天多次购买算一次。\n",
    "\n",
    "复购率 = 有复购行为的用户数/有购买行为的用户总数。"
   ]
  },
  {
   "cell_type": "code",
   "execution_count": 59,
   "metadata": {
    "ExecuteTime": {
     "end_time": "2020-12-23T04:14:53.067420Z",
     "start_time": "2020-12-23T04:14:51.864206Z"
    }
   },
   "outputs": [],
   "source": [
    "rebuy_data = user_data[user_data['behavior_type']==4].groupby('user_id')['date'].apply(lambda x:len(x.unique())).rename('rebuy_count')"
   ]
  },
  {
   "cell_type": "code",
   "execution_count": 70,
   "metadata": {
    "ExecuteTime": {
     "end_time": "2020-12-23T04:19:53.068378Z",
     "start_time": "2020-12-23T04:19:53.059598Z"
    },
    "scrolled": true
   },
   "outputs": [
    {
     "data": {
      "text/plain": [
       "0.8717083051991897"
      ]
     },
     "execution_count": 70,
     "metadata": {},
     "output_type": "execute_result"
    }
   ],
   "source": [
    "rebuy_data[rebuy_data>1].count()/rebuy_data.count()"
   ]
  }
 ],
 "metadata": {
  "kernelspec": {
   "display_name": "Python 3",
   "language": "python",
   "name": "python3"
  },
  "language_info": {
   "codemirror_mode": {
    "name": "ipython",
    "version": 3
   },
   "file_extension": ".py",
   "mimetype": "text/x-python",
   "name": "python",
   "nbconvert_exporter": "python",
   "pygments_lexer": "ipython3",
   "version": "3.7.8"
  },
  "toc": {
   "base_numbering": 1,
   "nav_menu": {},
   "number_sections": true,
   "sideBar": true,
   "skip_h1_title": false,
   "title_cell": "Table of Contents",
   "title_sidebar": "Contents",
   "toc_cell": false,
   "toc_position": {},
   "toc_section_display": true,
   "toc_window_display": true
  },
  "varInspector": {
   "cols": {
    "lenName": 16,
    "lenType": 16,
    "lenVar": 40
   },
   "kernels_config": {
    "python": {
     "delete_cmd_postfix": "",
     "delete_cmd_prefix": "del ",
     "library": "var_list.py",
     "varRefreshCmd": "print(var_dic_list())"
    },
    "r": {
     "delete_cmd_postfix": ") ",
     "delete_cmd_prefix": "rm(",
     "library": "var_list.r",
     "varRefreshCmd": "cat(var_dic_list()) "
    }
   },
   "types_to_exclude": [
    "module",
    "function",
    "builtin_function_or_method",
    "instance",
    "_Feature"
   ],
   "window_display": false
  }
 },
 "nbformat": 4,
 "nbformat_minor": 4
}
